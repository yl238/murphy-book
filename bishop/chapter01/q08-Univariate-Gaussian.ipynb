{
 "cells": [
  {
   "cell_type": "markdown",
   "metadata": {},
   "source": [
    "## The Gaussian Distribution\n",
    "For a single real-valued variable $x$, the Gaussian distribution is defined by \n",
    "\n",
    "$$\n",
    "\\mathcal{N}(x|\\mu, \\sigma^2)= \\frac{1}{(2\\pi\\sigma^2)^{1/2}}\\mathrm{exp}\\left\\{-\\frac{1}{2\\sigma^2}(x-\\mu)^2\\right\\}\n",
    "$$\n",
    "\n",
    "Governed by two parameters: $\\mu$, the *mean* and $\\sigma^2$, the *variance*."
   ]
  },
  {
   "cell_type": "markdown",
   "metadata": {},
   "source": [
    "Prove $\\mathbb{E}[x]= \\int_{-\\infty}^\\infty\\mathcal{N}(x|\\mu,\\sigma^2)xdx = \\mu$\n",
    "\n",
    "Let $y = (x-\\mu)/\\sigma$, then $x = \\sigma y + \\mu$\n",
    "\n",
    "\\begin{aligned}\n",
    "\\mathbb{E}[x] & = \\frac{1}{(2\\pi)^{1/2}\\sigma}\\int (\\sigma y + \\mu)e^{-\\frac{y^2}{2}}\\sigma dy\\\\\n",
    "& = \\frac{1}{(2\\pi)^{1/2}}\\int y e^{-\\frac{y^2}{2}} dy + \\frac{\\mu}{(2\\pi)^{1/2}}\\int e^{-\\frac{y^2}{2}}dy\\\\\n",
    "& = 0 + \\mu = \\mu\n",
    "\\end{aligned}"
   ]
  },
  {
   "cell_type": "markdown",
   "metadata": {},
   "source": [
    "Prove: $\\mathbb{E}[x^2]= \\int_{-\\infty}^\\infty\\mathcal{N}(x|\\mu,\\sigma^2)x^2\\,dx = \\mu^2 + \\sigma^2$\n"
   ]
  },
  {
   "cell_type": "markdown",
   "metadata": {},
   "source": [
    "\\begin{aligned}\n",
    "\\mathbb{E}[x] & = \\frac{1}{(2\\pi)^{1/2}\\sigma}\\int (\\sigma y + \\mu)^2e^{-\\frac{y^2}{2}}\\sigma dy\\\\\n",
    "& = \\frac{1}{(2\\pi)^{1/2}}\\int 2\\sigma\\mu y e^{-\\frac{y^2}{2}} dy + \\frac{\\mu^2}{(2\\pi)^{1/2}}\\int e^{-\\frac{y^2}{2}}dy + \\frac{\\sigma^2}{(2\\pi)^{1/2}}\\int y^2 e^{-\\frac{y^2}{2}}dy\\\\\n",
    "& = 0 + \\mu^2 + \\sigma^2 = \\mu^2 + \\sigma^2 \n",
    "\\end{aligned}"
   ]
  },
  {
   "cell_type": "markdown",
   "metadata": {},
   "source": [
    "Second proof: there is a clever way of doing this as shown in Bishop:\n",
    "\n",
    "\\begin{aligned}\n",
    "\\int_{-\\infty}^\\infty\\mathrm{exp}\\left\\{-\\frac{1}{2\\sigma^2}(x-\\mu)^2\\right\\} = (2\\pi\\sigma^2)^{1/2}\n",
    "\\end{aligned}\n",
    "\n",
    "Taking the derivative with respect to $\\sigma^2$ on both sides, we get\n",
    "\n",
    "\\begin{aligned}\n",
    "\\int_{-\\infty}^\\infty\\mathrm{exp}\\left\\{-\\frac{1}{2\\sigma^2}(x-\\mu)^2\\right\\}(x-\\mu)^2 = (2\\pi\\sigma^2)^{1/2}\\sigma^2,\n",
    "\\end{aligned}\n",
    "\n",
    "which shows directly $\\mathbb{E}[(x-\\mu)^2] = \\mathrm{var}(x) = \\sigma^2$\n"
   ]
  }
 ],
 "metadata": {
  "kernelspec": {
   "display_name": "Python 3",
   "language": "python",
   "name": "python3"
  },
  "language_info": {
   "codemirror_mode": {
    "name": "ipython",
    "version": 3
   },
   "file_extension": ".py",
   "mimetype": "text/x-python",
   "name": "python",
   "nbconvert_exporter": "python",
   "pygments_lexer": "ipython3",
   "version": "3.7.3"
  }
 },
 "nbformat": 4,
 "nbformat_minor": 4
}
