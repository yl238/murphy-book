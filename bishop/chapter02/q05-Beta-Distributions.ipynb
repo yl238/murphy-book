{
 "cells": [
  {
   "cell_type": "markdown",
   "metadata": {},
   "source": [
    "## Exercise 2.5\n",
    "In this exercise, we prove that the beta distribution, given by \n",
    "\n",
    "$$\n",
    "\\mathrm{Beta}(\\mu|a, b) = \\frac{\\Gamma(a+b)}{\\Gamma(a)\\Gamma(b)}\\mu^{a-1}(1-\\mu)^{b-1},\n",
    "$$\n",
    "\n",
    "\n",
    "is correctly normalized, so that $\\int_0^1\\mathrm{Beta}(\\mu|a, b)d\\mu = 1$. \n",
    "\n",
    "### Solution\n",
    "This is equivalent to showing that\n",
    "\n",
    "$$\n",
    "\\int_0^1\\mu^{a-1}(1-\\mu)^{b-1}d\\mu = \\frac{\\Gamma(a+b)}{\\Gamma(a)\\Gamma(b)}\n",
    "$$\n",
    "\n",
    "From the definition of the gamma function, we have\n",
    "\n",
    "$$\n",
    "\\Gamma(a)\\Gamma(b) = \\int_0^\\infty\\exp(-x)x^{a-1}dx\\int_0^\\infty\\exp(-y)y^{b-1}dy\n",
    "$$"
   ]
  },
  {
   "cell_type": "markdown",
   "metadata": {},
   "source": [
    "Let $t = y + x$, we obtain\n",
    "\n",
    "\\begin{align}\n",
    "\\Gamma(a)\\Gamma(b) & = \\int_0^\\infty x^{a-1}\\left\\{\\int_x^\\infty \\exp(-t)(t-x)^{b-1}\\mathrm{d}t\\right\\}\\mathrm{d}x \\\\\n",
    "& = \\int_0^\\infty\\int_0^t x^{a-1}\\exp(-t)(t-x)^{b-1}\\mathrm{d}x\\mathrm{d}t\n",
    "\\end{align}\n",
    "\n",
    "Change the variables in the $x$ integral using $x=t\\mu$ to give\n",
    "\n",
    "\\begin{aligned}\n",
    "\\Gamma(a)\\Gamma(b) & = \\int_0^\\infty\\exp(-t)t^{a-1}t^{b-1}t\\mathrm{d}t\\int_0^1\\mu^{a-1}(1-\\mu)^{b-1}\\mathrm{d}\\mu \\\\\n",
    "& = \\Gamma(a+b)\\int_0^1\\mu^{a-1}(1-\\mu)^{b-1}\\mathrm{d}\\mu\n",
    "\\end{aligned}"
   ]
  }
 ],
 "metadata": {
  "kernelspec": {
   "display_name": "Python 3",
   "language": "python",
   "name": "python3"
  },
  "language_info": {
   "codemirror_mode": {
    "name": "ipython",
    "version": 3
   },
   "file_extension": ".py",
   "mimetype": "text/x-python",
   "name": "python",
   "nbconvert_exporter": "python",
   "pygments_lexer": "ipython3",
   "version": "3.7.3"
  }
 },
 "nbformat": 4,
 "nbformat_minor": 4
}
