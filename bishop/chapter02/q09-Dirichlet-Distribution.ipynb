{
 "cells": [
  {
   "cell_type": "markdown",
   "metadata": {},
   "source": [
    "## Exercise 2.9\n",
    "We use induction to prove the normalization of the Dirichlet distribution:\n",
    "\n",
    "$$\n",
    "\\mathrm{Dir}(\\boldsymbol\\mu|\\boldsymbol\\alpha)=\\frac{\\Gamma(\\alpha_0)}{\\Gamma(\\alpha_1)\\cdots\\Gamma(\\alpha_K)}\\prod_{k=1}^K\\mu_k^{a_k-1},\n",
    "$$\n",
    "\n",
    "where $\\Gamma(x)$ is the gamma function and $\\alpha_0 = \\sum_{k=1}^K\\alpha_k$."
   ]
  },
  {
   "cell_type": "markdown",
   "metadata": {},
   "source": [
    "We have shown that the beta distribution, which is a special case of the Dirichlet for $M=2$ is normalized. We now assume that the Dirichlet distribution is normalized for $M-1$ variables and prove that it is normalized for $M$ variables.\n",
    "\n",
    "To do this, consider the Dirichlet distribution over $M$ variables, and take account of the constraint $\\sum_{k=1}^M\\mu_k=1$ by eliminating $\\mu_M$, so that the Dirichlet is written\n",
    "\n",
    "$$\n",
    "p_M(\\mu_1,\\ldots,\\mu_{M-1}) = C_M\\prod_{k=1}^{M-1}\\mu_k^{\\alpha_k-1}\\left(1-\\sum_{j=1}^{M-1}\\mu_j\\right)^{\\alpha_M-1}\n",
    "$$\n",
    "\n",
    "our goal is to find an expression for $C_M$."
   ]
  },
  {
   "cell_type": "markdown",
   "metadata": {},
   "source": [
    "Let's integrate over $\\mu_{M-1}$ the lower limit of integration is 0, while the upper limit is $1-\\sum_{j-1}^{M-2}\\mu_j$ since the remaining probabilities must sum to one. Thus we have\n",
    "\n",
    "\n",
    "\\begin{aligned}\n",
    "p_{M-1}(\\mu_1,\\ldots,\\mu_{M-2}) & = \\int_0^{1-\\sum_{j=1}^{M-2}\\mu_j}p_M(\\mu_1,\\ldots,\\mu_{M-1})\\mathrm{d}\\mu_{M=1}\\\\\n",
    "& = C_M\\left[\\prod_{k=1}^{M-2}\\mu_k^{\\alpha_k-1}\\right]\\int_0^{1-\\sum_{j=1}^{M-2}\\mu_j}\\mu_{M-1}^{\\alpha_{M-1}-1}\\left(1-\\sum_{j=1}^{M-1}\\mu_j\\right)^{\\alpha_M-1}\\mathrm{d}\\mu_{M-1}\n",
    "\\end{aligned}"
   ]
  }
 ],
 "metadata": {
  "kernelspec": {
   "display_name": "Python 3",
   "language": "python",
   "name": "python3"
  },
  "language_info": {
   "codemirror_mode": {
    "name": "ipython",
    "version": 3
   },
   "file_extension": ".py",
   "mimetype": "text/x-python",
   "name": "python",
   "nbconvert_exporter": "python",
   "pygments_lexer": "ipython3",
   "version": "3.7.3"
  }
 },
 "nbformat": 4,
 "nbformat_minor": 4
}
