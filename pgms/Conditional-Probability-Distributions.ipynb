{
 "cells": [
  {
   "cell_type": "markdown",
   "metadata": {},
   "source": [
    "# Local Conditional Probability Distributions\n",
    "Lecture notes from [Andrew McCallum](https://people.cs.umass.edu/~mccallum/courses/gm2011/03-cpd.pdf)"
   ]
  },
  {
   "cell_type": "markdown",
   "metadata": {},
   "source": [
    "## Conditional Probability Distributions\n",
    "* Proper CPD\n",
    "$$\n",
    "\\sum_{x\\in\\mathrm{Val}(X)} P(X=x|\\mathbf{Parents}(X)) = 1\n",
    "$$\n",
    "* Everything breaks down into distributions over one variable given some others.\n",
    "\n",
    "### Deterministic CPDs affect $I(G)$\n",
    "<img src=\"figures/simple_cpd.png\" alt=\"Drawing\" style=\"width: 200px;\"/>\n",
    "\n",
    "* $X \\perp Y |T$ (local Markov assumption)\n",
    "* $X \\perp Y | \\{G_1, G_2\\}$"
   ]
  },
  {
   "cell_type": "markdown",
   "metadata": {},
   "source": [
    "### Review: D-Separation\n",
    "* Three sets of nodes: $\\mathbf{X}$, $\\mathbf{Y}$ and observed nodes $\\mathbf{Z}$.\n",
    "* $\\mathbf{X}$ and $\\mathbf{Y}$ are **d-separated** given $\\mathbf{Z}$ if there is no activate trail from any $X\\in\\mathbf{X}$ to any $Y\\in\\mathbf{Y}$ given $\\mathbf{Z}$."
   ]
  },
  {
   "cell_type": "markdown",
   "metadata": {},
   "source": [
    "### Context-Specific Independence\n",
    "* Let $\\mathbf{X}, \\mathbf{Y}$ and $\\mathbf{X}$ be disjoint sets of variables; $\\mathbf{C}$ is a set of variables that could overlap\n",
    "* Let $\\mathbf{c}\\in \\mathrm{Val}(\\mathbf{C})$.\n",
    "* $\\mathbf{X}$ and $\\mathbf{Y}$ are conditionally independent given $\\mathbf{Z}$ and the context $\\mathbf{c}$:\n",
    "    - $\\mathbf{X}\\perp_c \\mathbf{Y}\\, |\\,\\mathbf{Z}$\n",
    "    - $P(\\mathbf{X}\\,|\\,\\mathbf{Y}, \\mathbf{Z}, \\mathbf{C=c}) = P(\\mathbf{X}\\,|\\,\\mathbf{Z} , \\mathbf{C}=\\mathbf{c})$\n",
    " whenever $P(\\mathbf{Y},\\mathbf{Z}, \\mathbf{C}=\\mathbf{c}) > 0$."
   ]
  },
  {
   "cell_type": "markdown",
   "metadata": {},
   "source": [
    "### Tree CPDs\n",
    "Use a tree to represent $P(X \\, | \\, \\mathbf{Parents}(X))$\n",
    "- Each leaf is a distribution over $X$\n",
    "- Each path defines a context."
   ]
  },
  {
   "cell_type": "markdown",
   "metadata": {},
   "source": [
    "P(E- |a+, c-) = 0.1\n",
    "P(E+ |a+, c-) = 0.9\n",
    "P(E- |a+, c+) = 0.3\n",
    "P(E+ |a+, c+) = 0.7\n",
    "P(E- |a-, b+) = 0.5\n",
    "P(E+ |a-, b-) = 0.5\n",
    "P(E- |a-. b-, d-) = 0.2\n",
    "P(E+ |a-. b-, d-) = 0.8\n",
    "P(E- |a-, b-, d+) = 0.6\n",
    "P(E+ |a-, b-, d+) = 0.4\n",
    "\n",
    "P(E+ |A, B, C, D) = 0.9 * 0.7 * 0.5 * 0.8 * 0.4\n",
    "P(E |A, B, C, D) = P(E|A,C)"
   ]
  },
  {
   "cell_type": "code",
   "execution_count": 1,
   "metadata": {},
   "outputs": [
    {
     "data": {
      "text/plain": [
       "0.1008"
      ]
     },
     "execution_count": 1,
     "metadata": {},
     "output_type": "execute_result"
    }
   ],
   "source": []
  },
  {
   "cell_type": "code",
   "execution_count": null,
   "metadata": {},
   "outputs": [],
   "source": []
  }
 ],
 "metadata": {
  "kernelspec": {
   "display_name": "Python 3",
   "language": "python",
   "name": "python3"
  },
  "language_info": {
   "codemirror_mode": {
    "name": "ipython",
    "version": 3
   },
   "file_extension": ".py",
   "mimetype": "text/x-python",
   "name": "python",
   "nbconvert_exporter": "python",
   "pygments_lexer": "ipython3",
   "version": "3.7.1"
  }
 },
 "nbformat": 4,
 "nbformat_minor": 2
}
