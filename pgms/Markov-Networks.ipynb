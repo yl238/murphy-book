{
 "cells": [
  {
   "cell_type": "markdown",
   "metadata": {},
   "source": [
    "# Markov Networks\n",
    "Markov networks are also called **Markov random fields**.\n",
    "\n",
    "The simplest case is **pairwise Markov networks**. Formally, a *pairwise Markov Network* is an undirected graph whose nodes are $X_1,\\ldots,X_n$ and each edge $X_i-X_j$ is associated with a factor (aka *potential*) $\\phi_{ij}(X_i-X_j)$.\n",
    "\n",
    "Pairwise Markov networks cannot represent all the probability distributions we may be interested in. A pairwise Markov network with $n$ random variables, each with $d$ values, has $O(n^2 d^2)$ parameters. On the other hand, if we consider a probability distribution over $n$ random variables, each with $d$ values, it has $O(d^n)$ parameters, which is far greater than $O(n^2d^2)$."
   ]
  },
  {
   "cell_type": "markdown",
   "metadata": {},
   "source": [
    "## Gibbs distribution\n",
    "\n",
    "A **Gibbs distribution** is a parameterized by a set of general factors $\\Phi = \\{\\phi_1(D_1),\\ldots,\\phi_k(D_k)\\}$ which can have a scope of $\\ge 2$ variables (whereas pairwise Markov networks were limited to two variable scopes). As a result, this can express any probability distribution because we can just define a fector over all the random variables.\n",
    "\n",
    "We also have:\n",
    "\\begin{eqnarray}\n",
    "\\tilde{P}_\\Phi(X_1,\\ldots,X_n)  & = & \\prod_{i=1}^k\\phi_i(D_i) \\\\\n",
    "Z_{\\Phi} & = & \\sum_{X1,\\ldots,X_n}\\tilde{P}_\\Phi(X_1,\\ldots,X_n)\n",
    "\\end{eqnarray}\n",
    "\n",
    "where $Z_\\Phi$ is the partition function, i.e. the normalizing constant.\n",
    "\n",
    "Thus we have:\n",
    "\n",
    "$$\n",
    "P_\\Phi(X_1,\\ldots,X_n) = \\frac{1}{Z_\\Phi}\\tilde{P}_\\Phi(X_1,\\ldots,X_n)\n",
    "$$"
   ]
  },
  {
   "cell_type": "markdown",
   "metadata": {},
   "source": [
    "We can generate an **induced Markov network** $H_\\Phi$ from a set of factors $\\Phi$. For each factor in the set, we connect any variables which are in the same scope.\n",
    "\n",
    "We say a probability distribution $P$ factorizes over a Markov network $H$ if there exists a set of factor $\\Phi$ such that $P=P_\\Phi$ and $h$ is the induced graph for $\\Phi$. \n",
    "\n",
    "We have **active trails** in Markov networks as well: a train $X_1-\\cdots-X_n$ is active given the set of observed variables $Z$ if no $X_i$ is in $Z$."
   ]
  },
  {
   "cell_type": "markdown",
   "metadata": {},
   "source": [
    "## Conditional Random Fields\n",
    "\n",
    "A commonly-used variant of Markov networks is **conditional random fields** (CRFs).\n",
    "\n",
    "This kind of model is used to deal with *task-specific prediction*, where we have a set of input/observed variables $X$ and a set of target variables $Y$ that we are trying to predict.\n",
    "\n",
    "Using the graphical models we have seen so far is not the best because we don't want to model $P(X, Y)$ - we are already given $X$. Instead, we just want to model $P(Y|X)$. That way we don't have to worry about how features of $X$ are correlated or independent, and we don't have to model their distributions.\n",
    "\n",
    "In this scenario, we can use a *conditional random field* representation:\n",
    "\\begin{eqnarray}\n",
    "\\Phi & = & \\{\\phi_i(D_1),\\ldots,\\phi_k(D_k)\\}\\\\\n",
    "\\tilde{P}_\\Phi(X, Y) & = & \\prod_{i=1}^k \\phi_i(D_i)\n",
    "\\end{eqnarray}\n",
    "This looks just like a Gibbs distribution. The difference is in the partition function:\n",
    "$$\n",
    "Z_\\Phi(X) = \\sum_Y\\tilde{P}_\\Phi(X, Y)\n",
    "$$\n",
    "So a CRF is parameterized the same as a Gibbs distribution, but it is normalized differently.\n",
    "\n",
    "The end result is: \n",
    "$$\n",
    "P_\\Phi(Y|X) = \\frac{1}{Z_\\Phi(X)}\\tilde{P}_\\Phi(X, Y)\n",
    "$$\n",
    "which is a family of conditional distributions, one for each possible value of $X$.\n",
    "\n",
    "In a Markov network, we have the concept of **separation**, which is like d-separation in Bayesian networks but we drop the 'd' because they are not directed.\n",
    "\n",
    "$X$ and $Y$ are separated in $H$ given observed evidence $Z$ if there is no active trail in $H$ (that is, no node along the trail is in $Z$)."
   ]
  },
  {
   "attachments": {
    "image.png": {
     "image/png": "[encoded data removed]"
    }
   },
   "cell_type": "markdown",
   "metadata": {},
   "source": [
    "![image.png](attachment:image.png)"
   ]
  },
  {
   "cell_type": "markdown",
   "metadata": {},
   "source": [
    "We can separate $A$ and $E$ in few ways:\n",
    "* $A$ and $E$ are separated given $B$ and $D$\n",
    "* $A$ and $E$ are separated given $D$\n",
    "* $A$ and $E$ are separated given $B$ and $C$\n",
    "\n",
    "Like with Bayesian networks, we have a theorem: if $P$ factorizes over $H$ and $\\mathrm{sep}_H(X, Y | Z)$, then $P$ satisfies $X\\perp Y|Z)$."
   ]
  }
 ],
 "metadata": {
  "kernelspec": {
   "display_name": "Python 3",
   "language": "python",
   "name": "python3"
  },
  "language_info": {
   "codemirror_mode": {
    "name": "ipython",
    "version": 3
   },
   "file_extension": ".py",
   "mimetype": "text/x-python",
   "name": "python",
   "nbconvert_exporter": "python",
   "pygments_lexer": "ipython3",
   "version": "3.7.0"
  }
 },
 "nbformat": 4,
 "nbformat_minor": 2
}
