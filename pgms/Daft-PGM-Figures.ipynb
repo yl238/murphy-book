{
 "cells": [
  {
   "cell_type": "markdown",
   "metadata": {},
   "source": [
    "# PGM plate illustrations\n",
    "Created using the `daft` python package."
   ]
  },
  {
   "cell_type": "code",
   "execution_count": 15,
   "metadata": {},
   "outputs": [],
   "source": [
    "from matplotlib import rc\n",
    "import matplotlib as mpl\n",
    "import matplotlib.pyplot as plt\n",
    "rc('font', family='serif', size=12)\n",
    "rc('text', usetex=True)\n",
    "mpl.rcParams['figure.figsize'] = [10, 6]\n",
    "\n",
    "import daft"
   ]
  },
  {
   "cell_type": "markdown",
   "metadata": {},
   "source": [
    "### Generic"
   ]
  },
  {
   "cell_type": "code",
   "execution_count": 62,
   "metadata": {
    "scrolled": true
   },
   "outputs": [
    {
     "data": {
      "image/png": "[encoded data removed]",
      "text/plain": [
       "<Figure size 130.394x116.22 with 1 Axes>"
      ]
     },
     "metadata": {},
     "output_type": "display_data"
    }
   ],
   "source": [
    "# Instantiate the PGM.\n",
    "pgm = daft.PGM([2.3, 2.05], origin=[0.3, 0.3])\n",
    "\n",
    "# Hierarchical parameters.\n",
    "pgm.add_node(daft.Node('alpha', r\"$\\alpha$\", 0.5, 2, fixed=True))\n",
    "pgm.add_node(daft.Node('beta', r\"$\\beta$\", 1.5, 2))\n",
    "\n",
    "# Latent variable.\n",
    "pgm.add_node(daft.Node('z', r\"$z_n$\", 1, 1))\n",
    "\n",
    "# Data.\n",
    "pgm.add_node(daft.Node('x', r\"$x_n$\", 2, 1, observed=True))\n",
    "\n",
    "# Add in the edges.\n",
    "pgm.add_edge(\"alpha\", \"beta\", linewidth=0.5, head_width=0.2, head_length=0.15)\n",
    "pgm.add_edge(\"beta\", \"z\")\n",
    "pgm.add_edge('z', 'x')\n",
    "pgm.add_edge('beta', 'x')\n",
    "\n",
    "# Add a plate.\n",
    "pgm.add_plate(daft.Plate([0.5, 0.6, 2, 1],position='bottom right', label='$N$', \n",
    "                         bbox={'linewidth':0, 'fill':False},\n",
    "    shift=-0.1))\n",
    "\n",
    "\n",
    "# Render and save\n",
    "pgm.render()\n",
    "pgm.figure.savefig('classic.png', dpi=150)"
   ]
  },
  {
   "cell_type": "markdown",
   "metadata": {},
   "source": [
    "### LDA"
   ]
  },
  {
   "cell_type": "code",
   "execution_count": 120,
   "metadata": {},
   "outputs": [
    {
     "data": {
      "image/png": "[encoded data removed]",
      "text/plain": [
       "<Figure size 283.465x113.386 with 1 Axes>"
      ]
     },
     "metadata": {},
     "output_type": "display_data"
    }
   ],
   "source": [
    "pgm = daft.PGM([5, 2], origin=[0.2, 0.3])\n",
    "\n",
    "pgm.add_node(daft.Node('alpha', r\"$\\alpha$\", 0.3, 1, fixed=True))\n",
    "pgm.add_node(daft.Node('eta', r\"$\\eta$\", 4.8, 1, fixed=True))\n",
    "\n",
    "pgm.add_node(daft.Node('theta', r\"$\\theta_d$\", 1, 1))\n",
    "pgm.add_node(daft.Node('z_dn', r\"$z_{dn}$\", 1.8, 1))\n",
    "pgm.add_node(daft.Node('w_dn', r\"$w_{dn}$\", 2.7, 1, observed=True))\n",
    "\n",
    "pgm.add_node(daft.Node('beta', r\"$\\beta_k$\", 4.0, 1))\n",
    "\n",
    "\n",
    "pdict = {'linewidth': 0.5, 'head_width': 0.2, 'head_length':0.15}\n",
    "pgm.add_edge('alpha', 'theta', **pdict)\n",
    "pgm.add_edge('theta', 'z_dn', **pdict)\n",
    "pgm.add_edge('z_dn', 'w_dn', **pdict)\n",
    "pgm.add_edge('beta', 'w_dn', **pdict)\n",
    "pgm.add_edge('eta', 'beta', **pdict)\n",
    "\n",
    "labeldict = {'linewidth':0, 'fill':False}\n",
    "pgm.add_plate(daft.Plate([0.5, 0.4, 2.95, 1.3], position='bottom right', label='$D$', bbox=labeldict))\n",
    "pgm.add_plate(daft.Plate([3.6, 0.4, 0.9, 1.3], position='bottom right', label='$K$', bbox=labeldict))\n",
    "pgm.add_plate(daft.Plate([1.4, 0.5, 1.75, 1], position='bottom right', label='$N$', bbox=labeldict))\n",
    "\n",
    "\n",
    "pgm.render()\n",
    "pgm.figure.savefig('lda.png',dpi=150)"
   ]
  },
  {
   "cell_type": "code",
   "execution_count": null,
   "metadata": {},
   "outputs": [],
   "source": []
  }
 ],
 "metadata": {
  "kernelspec": {
   "display_name": "Python 3",
   "language": "python",
   "name": "python3"
  },
  "language_info": {
   "codemirror_mode": {
    "name": "ipython",
    "version": 3
   },
   "file_extension": ".py",
   "mimetype": "text/x-python",
   "name": "python",
   "nbconvert_exporter": "python",
   "pygments_lexer": "ipython3",
   "version": "3.7.1"
  }
 },
 "nbformat": 4,
 "nbformat_minor": 2
}
