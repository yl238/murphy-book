{
 "cells": [
  {
   "cell_type": "markdown",
   "metadata": {},
   "source": [
    "# Boltzmann machines\n",
    "\n",
    "We define the Boltzmann machine over a $d$-dimensional binary random vector $\\mathbf{x}\\in\\{0, 1\\}^d$. The Boltzmann machine is an energy-based model meaning we define the joint probability distribution using an energy function\n",
    "\n",
    "$$\n",
    "P(\\mathbf{x}) = \\frac{\\exp(-E(\\mathbf{x})}{Z},\n",
    "$$\n",
    "\n",
    "where $E(\\mathbf{x})$ is the energy function, and $Z$ is the partition function that ensures that $\\sum_{\\mathbf{x}}P(\\mathbf{x}) = 1$. The energy function of the Boltzmann machine is given by\n",
    "\n",
    "$$\n",
    "E(\\mathbf{x}) = -\\mathbf{x}^T\\mathbf{U}\\mathbf{x} - \\mathbf{b}^T\\mathbf{x}\n",
    "$$\n",
    "where $\\boldsymbol{U}$ is the 'weight' matrix of model parameters and $\\boldsymbol{b}$ is the vector of bias parameters. "
   ]
  },
  {
   "cell_type": "code",
   "execution_count": null,
   "metadata": {},
   "outputs": [],
   "source": []
  },
  {
   "cell_type": "code",
   "execution_count": null,
   "metadata": {},
   "outputs": [],
   "source": []
  }
 ],
 "metadata": {
  "kernelspec": {
   "display_name": "Python 3",
   "language": "python",
   "name": "python3"
  },
  "language_info": {
   "codemirror_mode": {
    "name": "ipython",
    "version": 3
   },
   "file_extension": ".py",
   "mimetype": "text/x-python",
   "name": "python",
   "nbconvert_exporter": "python",
   "pygments_lexer": "ipython3",
   "version": "3.6.7"
  }
 },
 "nbformat": 4,
 "nbformat_minor": 2
}
