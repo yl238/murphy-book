{
 "cells": [
  {
   "cell_type": "markdown",
   "metadata": {},
   "source": [
    "Introduces TFP syntax and variables and think about how to model a system from a Bayesian perspective."
   ]
  },
  {
   "cell_type": "code",
   "execution_count": 3,
   "metadata": {},
   "outputs": [],
   "source": [
    "from default_settings import *"
   ]
  },
  {
   "cell_type": "code",
   "execution_count": 4,
   "metadata": {},
   "outputs": [],
   "source": [
    "import tensorflow_probability as tfp\n",
    "tfd = tfp.distributions\n",
    "tfb = tfp.bijectors"
   ]
  },
  {
   "cell_type": "code",
   "execution_count": 27,
   "metadata": {},
   "outputs": [],
   "source": [
    "import matplotlib as mpl\n",
    "mpl.rcParams['figure.figsize'] = (10.0, 3.0)\n"
   ]
  },
  {
   "cell_type": "markdown",
   "metadata": {},
   "source": [
    "### Simple Example of Poisson sampling with both tensorflow graph and eager modes"
   ]
  },
  {
   "cell_type": "code",
   "execution_count": 8,
   "metadata": {},
   "outputs": [
    {
     "name": "stdout",
     "output_type": "stream",
     "text": [
      "Value of sample from data generator: 4.0\n"
     ]
    }
   ],
   "source": [
    "parameter = tfd.Exponential(rate=1., name='poisson_param').sample()\n",
    "data_generator = tfd.Poisson(parameter, name='data_generator')\n",
    "data_generator_sample = data_generator.sample()\n",
    "\n",
    "if tf.executing_eagerly():\n",
    "    data_gen_samps_ = tf.contrib.framework.nest.pack_sequence_as(\n",
    "        data_generator_samples,\n",
    "        [t.numpy() if tf.contrib.framework.is_tensor(t) else t\n",
    "        for t in tf.contrib.framework.nest.flatten(data_generator_samples)])\n",
    "else:\n",
    "    data_gen_samps_ = sess.run(data_generator_samples)\n",
    "    \n",
    "print('Value of sample from data generator:', data_gen_samps_)"
   ]
  },
  {
   "cell_type": "markdown",
   "metadata": {},
   "source": [
    "Can use the `evaluate()` function defined in `default_settings.py` to create code that's usable in both graph mode and eager model"
   ]
  },
  {
   "cell_type": "code",
   "execution_count": 7,
   "metadata": {},
   "outputs": [
    {
     "name": "stdout",
     "output_type": "stream",
     "text": [
      "Sample from exponential distribution before evaluation:  Tensor(\"poisson_param_2/sample/Reshape:0\", shape=(), dtype=float32)\n",
      "Evaluated sample from exponential distribution:  0.21458682\n"
     ]
    }
   ],
   "source": [
    "# Defining our assumptions\n",
    "parameter = tfd.Exponential(rate=1., name='poisson_param').sample()\n",
    "\n",
    "# Convert our TF to numpy\n",
    "[ parameter_ ] = evaluate([ parameter])\n",
    "\n",
    "print('Sample from exponential distribution before evaluation: ', parameter)\n",
    "print('Evaluated sample from exponential distribution: ', parameter_)"
   ]
  },
  {
   "cell_type": "markdown",
   "metadata": {},
   "source": [
    "More generally, can use `evaluate()` function to convert between the Tensorflow `tensor` data type and one that we can run operations on:"
   ]
  },
  {
   "cell_type": "code",
   "execution_count": 10,
   "metadata": {},
   "outputs": [
    {
     "name": "stdout",
     "output_type": "stream",
     "text": [
      "'parameter_' evaluated Tensor:  0.00059455424\n",
      "'data_generator_' sample evaluated Tensor:  0.0\n"
     ]
    }
   ],
   "source": [
    "[\n",
    "    parameter_,\n",
    "    data_generator_sample_,\n",
    "] = evaluate([\n",
    "    parameter,\n",
    "    data_generator.sample(),\n",
    "])\n",
    "print(\"'parameter_' evaluated Tensor: \", parameter_)\n",
    "print(\"'data_generator_' sample evaluated Tensor: \", data_generator_sample_)"
   ]
  },
  {
   "cell_type": "markdown",
   "metadata": {},
   "source": [
    "A general rule of thumb for programming in Tensorflow is that if you need to do any array-like calculations that would require Numpy functions, you should use their equivalents in TensorFLow. This practice is necessary because Numpy can produce only constant values but Tensorflow tensors are a dynamic part of the computation graph. If you mix and match these the wrong way, you will typically get an error about incompatible types."
   ]
  },
  {
   "cell_type": "markdown",
   "metadata": {},
   "source": [
    "### TFP Distributions\n",
    "#### Initializing a Distribution."
   ]
  },
  {
   "cell_type": "code",
   "execution_count": 11,
   "metadata": {},
   "outputs": [],
   "source": [
    "some_distribution = tfd.Uniform(0., 4.)\n",
    "sampled_tensor = some_distribution.sample()"
   ]
  },
  {
   "cell_type": "code",
   "execution_count": 12,
   "metadata": {},
   "outputs": [
    {
     "data": {
      "text/plain": [
       "<tf.Tensor 'Uniform/sample/Reshape:0' shape=() dtype=float32>"
      ]
     },
     "execution_count": 12,
     "metadata": {},
     "output_type": "execute_result"
    }
   ],
   "source": [
    "sampled_tensor"
   ]
  },
  {
   "cell_type": "markdown",
   "metadata": {},
   "source": [
    "#### Deterministic variables"
   ]
  },
  {
   "cell_type": "code",
   "execution_count": 13,
   "metadata": {},
   "outputs": [],
   "source": [
    "lambda_1 = tfd.Exponential(rate=1., name='lambda_1') # stochastic variable\n",
    "lambda_2 = tfd.Exponential(rate=1., name='lambda_2') # stochastic variable\n",
    "tau = tfd.Uniform(name='tau', low=0., high=10.) # stochastic variable\n",
    "\n",
    "# deterministic variable since we are getting results of lambda's after sampling\n",
    "new_deterministic_variable = tfd.Deterministic(name='deterministic_variable', loc=(lambda_1.sample() + lambda_2.sample()))"
   ]
  },
  {
   "cell_type": "code",
   "execution_count": 14,
   "metadata": {},
   "outputs": [
    {
     "name": "stdout",
     "output_type": "stream",
     "text": [
      "5 samples from our deterministic lambda model: \n",
      " [0.49821696 1.6576157  1.6576157  1.6576157  1.6576157 ]\n"
     ]
    }
   ],
   "source": [
    "n_data_points = 5\n",
    "idx = np.arange(n_data_points)\n",
    "\n",
    "lambda_deterministic = tfd.Deterministic(tf.gather([lambda_1.sample(), lambda_2.sample()],\n",
    "                                                  indices=tf.to_int32(tau.sample() >= idx)))\n",
    "[lambda_deterministic_] = evaluate([lambda_deterministic.sample()])\n",
    "\n",
    "print(\"{} samples from our deterministic lambda model: \\n\".format(n_data_points), lambda_deterministic_ )"
   ]
  },
  {
   "cell_type": "markdown",
   "metadata": {},
   "source": [
    "### Including observations in the model"
   ]
  },
  {
   "cell_type": "code",
   "execution_count": 16,
   "metadata": {},
   "outputs": [
    {
     "data": {
      "image/png": "[encoded data removed]",
      "text/plain": [
       "<Figure size 900x360 with 1 Axes>"
      ]
     },
     "metadata": {},
     "output_type": "display_data"
    }
   ],
   "source": [
    "# Define our observed samples\n",
    "lambda_1 = tfd.Exponential(rate=1., name='lambda_1')\n",
    "samples = lambda_1.sample(sample_shape=20000)\n",
    "\n",
    "# Execute graph, convert TF to Numpy\n",
    "[ samples_ ] = evaluate([ samples ])\n",
    "\n",
    "# Visualize our stepwise prior distribution\n",
    "plt.figure(figsize=(12.5, 5))\n",
    "plt.hist(samples_, bins=70, density=True, histtype='stepfilled')\n",
    "plt.title(r\"Prior distribution for $\\lambda_1$\")\n",
    "plt.xlim(0, 8);"
   ]
  },
  {
   "cell_type": "code",
   "execution_count": 21,
   "metadata": {},
   "outputs": [
    {
     "name": "stdout",
     "output_type": "stream",
     "text": [
      "two predetermined data points:  [10.  5.]\n",
      "\n",
      " mean of our data:  7.5\n",
      "\n",
      " random sample from poisson distribution \n",
      " with the mean as the poisson's rate: \n",
      " 0.0\n"
     ]
    }
   ],
   "source": [
    "data = tf.constant([10., 5.], dtype=tf.float32)\n",
    "poisson = tfd.Poisson(rate=1./tf.reduce_mean(data))\n",
    "\n",
    "# Execute graph\n",
    "[ data_, poisson_sample_, ] = evaluate([data, poisson.sample() ])\n",
    "\n",
    "print('two predetermined data points: ', data_)\n",
    "print(\"\\n mean of our data: \", np.mean(data_))\n",
    "\n",
    "print(\"\\n random sample from poisson distribution \\n with the mean as the poisson's rate: \\n\", poisson_sample_)"
   ]
  },
  {
   "cell_type": "markdown",
   "metadata": {},
   "source": [
    "## Modelling approaches\n",
    "\n",
    "A good starting thought to Bayesian modelling is to think about *how the data might have been generated*."
   ]
  },
  {
   "cell_type": "code",
   "execution_count": 22,
   "metadata": {},
   "outputs": [
    {
     "name": "stdout",
     "output_type": "stream",
     "text": [
      "Value of Tau (randomly taken from DiscreteUniform(0, 80)): 49\n"
     ]
    }
   ],
   "source": [
    "tau = tf.random_uniform(shape=[1], minval=0, maxval=80, dtype=tf.int32)[0]\n",
    "\n",
    "[ tau_ ] = evaluate([ tau ])\n",
    "\n",
    "print('Value of Tau (randomly taken from DiscreteUniform(0, 80)):', tau_)"
   ]
  },
  {
   "cell_type": "code",
   "execution_count": 23,
   "metadata": {},
   "outputs": [
    {
     "name": "stdout",
     "output_type": "stream",
     "text": [
      "lambda 1 (randomly taken from Gamma(α) distribution):  32.584953\n",
      "lambda 2 (randomly taken from Gamma(α) distribution):  22.387882\n"
     ]
    }
   ],
   "source": [
    "alpha = 1./8.\n",
    "\n",
    "lambdas = tfd.Gamma(concentration=1./alpha, rate=0.3).sample(sample_shape=[2])\n",
    "[ lambda_1_, lambda_2_] = evaluate(lambdas)\n",
    "print('lambda 1 (randomly taken from Gamma(α) distribution): ', lambda_1_)\n",
    "print('lambda 2 (randomly taken from Gamma(α) distribution): ', lambda_2_)"
   ]
  },
  {
   "cell_type": "code",
   "execution_count": 24,
   "metadata": {},
   "outputs": [
    {
     "name": "stdout",
     "output_type": "stream",
     "text": [
      "Artifical day-by-day user SMS count created by sampling: \n",
      " [31. 32. 36. 32. 28. 29. 42. 37. 31. 27. 31. 32. 36. 24. 33. 32. 37. 35.\n",
      " 29. 31. 30. 30. 31. 28. 27. 25. 27. 42. 35. 31. 37. 30. 37. 35. 37. 30.\n",
      " 30. 33. 37. 32. 31. 36. 43. 24. 34. 39. 34. 15. 28. 24. 17. 16. 23. 25.\n",
      " 27. 16. 17. 26. 18. 27. 21. 21. 28. 30. 24. 20. 34. 26. 21. 24. 26. 17.\n",
      " 22. 23. 18. 21. 26. 21. 21. 25.]\n"
     ]
    }
   ],
   "source": [
    "data = tf.concat([tfd.Poisson(rate=lambda_1_).sample(sample_shape=tau_),\n",
    "                 tfd.Poisson(rate=lambda_2_).sample(sample_shape=(80-tau_))], axis=0)\n",
    "days_range = tf.range(80)\n",
    "\n",
    "[data_, days_range_] = evaluate([ data, days_range ])\n",
    "print('Artifical day-by-day user SMS count created by sampling: \\n', data_)"
   ]
  },
  {
   "cell_type": "code",
   "execution_count": 25,
   "metadata": {},
   "outputs": [
    {
     "data": {
      "image/png": "[encoded data removed]",
      "text/plain": [
       "<Figure size 432x288 with 1 Axes>"
      ]
     },
     "metadata": {},
     "output_type": "display_data"
    }
   ],
   "source": [
    "plt.bar(days_range_, data_, color=TFColor[3])\n",
    "plt.bar(tau_ - 1, data_[tau_-1], color='r', label='user behaviour changed')\n",
    "plt.xlabel('Time (days)')\n",
    "plt.ylabel('Count of text-msgs received')\n",
    "plt.title('Artificial dataset')\n",
    "plt.xlim(0, 80)\n",
    "plt.legend();"
   ]
  },
  {
   "cell_type": "markdown",
   "metadata": {},
   "source": [
    "Create a few more datasets"
   ]
  },
  {
   "cell_type": "code",
   "execution_count": 30,
   "metadata": {},
   "outputs": [],
   "source": [
    "def plot_artificial_sms_dataset():\n",
    "    tau = tf.random_uniform(shape=[1], minval=0, maxval=80, dtype=tf.int32)[0]\n",
    "    \n",
    "    alpha = 1./8.\n",
    "    lambdas = tfd.Gamma(concentration=1/alpha, rate=0.3).sample(sample_shape=[2])\n",
    "    [ lambda_1_, lambda_2_ ] = evaluate(lambdas)\n",
    "    data = tf.concat([tfd.Poisson(rate=lambda_1_).sample(sample_shape=tau),\n",
    "                     tfd.Poisson(rate=lambda_2_).sample(sample_shape=(80-tau))], axis=0)\n",
    "    days_range = tf.range(80)\n",
    "    \n",
    "    [\n",
    "        tau_,\n",
    "        data_,\n",
    "        days_range_,\n",
    "    ] = evaluate([\n",
    "        tau,\n",
    "        data,\n",
    "        days_range,\n",
    "    ])\n",
    "    \n",
    "    plt.bar(days_range_, data_, color=TFColor[3])\n",
    "    plt.bar(tau_ -1, data_[tau_-1], color='r', label='user behaviour changed')\n",
    "    plt.xlim(0, 80);"
   ]
  },
  {
   "cell_type": "code",
   "execution_count": 32,
   "metadata": {},
   "outputs": [
    {
     "data": {
      "image/png": "[encoded data removed]",
      "text/plain": [
       "<Figure size 900x504 with 4 Axes>"
      ]
     },
     "metadata": {},
     "output_type": "display_data"
    }
   ],
   "source": [
    "plt.figure(figsize=(12.5, 7))\n",
    "plt.title('More example of artificial datasets')\n",
    "for i in range(4):\n",
    "    plt.subplot(4, 1, i+1)\n",
    "    plot_artificial_sms_dataset()"
   ]
  }
 ],
 "metadata": {
  "kernelspec": {
   "display_name": "Python 3",
   "language": "python",
   "name": "python3"
  },
  "language_info": {
   "codemirror_mode": {
    "name": "ipython",
    "version": 3
   },
   "file_extension": ".py",
   "mimetype": "text/x-python",
   "name": "python",
   "nbconvert_exporter": "python",
   "pygments_lexer": "ipython3",
   "version": "3.6.7"
  }
 },
 "nbformat": 4,
 "nbformat_minor": 2
}
