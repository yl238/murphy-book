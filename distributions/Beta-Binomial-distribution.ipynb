{
 "cells": [
  {
   "cell_type": "markdown",
   "metadata": {},
   "source": [
    "## Glossary\n",
    "\n",
    "- **Random Variable**: as the name suggest, a random variable can be informally described as a variable whose values depend on the outcome of a random phenomon. In probability theory, a random variable has a probability distribution that specifies the Borel subsets of its range.\n",
    "\n",
    "More formally, a random variable is a measurable function $X: \\Omega \\rightarrow E$ from a set of possible outcomes $\\Omega$ to a measurable space $E$.  \n",
    "\n",
    "- **Likelihood function**: measures the goodness of fit of a statistical model to a sample of data for given values of the unknown parameters. We can write it as $p(X|\\theta)$.\n",
    "\n",
    "- **Posterior probability**: The posterior probability of a random event is the conditional probability that is assigned after the relevant evidence is taken into account. i.e. $p(\\theta|X)$ where $X$ is the evidence.\n",
    "\n",
    "- **Prior probability**: As the name suggests, it is the probability distribution that the data is believed to have prior to the evidence. We write it as $p(\\theta)$.\n",
    "\n",
    "The posterior probability can be calculated using Bayes rule:\n",
    "\n",
    "$$\n",
    "p(\\theta|x)  = \\frac{p(x|\\theta)p(\\theta)}{p(x)}\n",
    "$$\n",
    "\n",
    "$p(x)$ is the normalizing constant (called the marginal probability of $x$) and is calculated as \n",
    "\n",
    "$$\n",
    "p(x) = \\int p(x|\\theta)p(\\theta)d\\theta\n",
    "$$\n",
    "\n",
    "This means that the posterior probability can be written as \n",
    "\n",
    "\\begin{aligned}\n",
    "p(\\theta|x) & \\propto p(X|\\theta)p(\\theta)\\\\\n",
    "\\text{Posterior probability} &  \\propto \\text{likelihood}\\times\\text{Prior probability}\n",
    "\\end{aligned}"
   ]
  },
  {
   "cell_type": "markdown",
   "metadata": {},
   "source": [
    "## Beta-binomial Distribution\n",
    "\n",
    "The beta-binomial distribution arises when we have the probability of success in $n$ Bernoulli trials is either unknown or random. The beta-binomial is the binomial distribution in which the probability of success at each of $n$ trials is not fixed but randomly drawn from a Beta distribution.\n",
    "\n",
    "Note it reduces to the binomial distribution when $n$=1.\n",
    "\n",
    "### Derivation\n",
    "Remember that the binomial distribution is given by \n",
    "$$\n",
    "p(X=k|N, \\theta) = \\binom{N}{k}\\theta^{k}(1-\\theta)^{N-k}\n",
    "$$\n",
    "\n",
    "where $k$ is the number of heads out of $N$ tosses of a coin, with the probability of success begin $\\theta$.\n",
    "\n",
    "Now suppose the success probability $\\theta$ is no longer fixed but randomly drawn from a Beta distribution with parameters $\\alpha$, $\\beta$. Now, the beta distribution is the conjugate prior of the binomial distribution. \n",
    "\n",
    "(What does this mean? It means that if we calculate the posterior distribution when the likelihood is that of a binomial distribution and we use a Beta distribution prior, then the posterior is also a Beta distribution. This makes the calculation easier.)"
   ]
  },
  {
   "cell_type": "markdown",
   "metadata": {},
   "source": [
    "Because the beta distribution is the conjugate distribution of the binomial distribution, it is possible to derive an analytically tractable compound distribution where we can think of the $\\theta$ parameter in the binomial distribution as being randomly drawn from a beta distribution.\n",
    "\n",
    "Namely,\n",
    "\n",
    "if \n",
    "\n",
    "$$\n",
    "X\\sim \\mathrm{Bin}(N, \\theta)\n",
    "$$\n",
    "\n",
    "Then \n",
    "\n",
    "$$\n",
    "p(X=k |\\theta, n) = L(\\theta|n) = \\binom{n}{k}\\theta^k(1-\\theta)^{n-k}\n",
    "$$\n",
    "\n",
    "Where $\\mathrm{Bin})(n, \\theta)$ stands for the binomial distribution, and $\\theta$ is a random variable with a Beta distribution:\n",
    "\n",
    "$$\n",
    "\\pi(\\theta|\\alpha,\\beta) = \\mathrm{Beta}(\\alpha, \\beta) = \\frac{\\theta^{\\alpha-1}(1-\\theta)^{\\beta-1}}{\\mathrm{B}(\\alpha, \\beta)}\n",
    "$$\n",
    "\n",
    "for $0\\le \\theta\\le 1$ and $B(\\alpha, \\beta)$ is the Beta function.\n",
    "\n",
    "The compound distribution is given by\n",
    "\n",
    "\\begin{aligned}\n",
    "f(k|n, \\alpha, \\beta)  & = \\int_0^1L(\\theta|k)\\pi(\\theta|\\alpha,\\beta)d\\theta \\\\\n",
    "& = \\binom{n}{k}\\frac{1}{B(\\alpha,\\beta)}\\int_0^1\\theta^{k+\\alpha-1}(1-\\theta)^{n-k+\\beta-1}d\\theta\\\\\n",
    "& = \\binom{n}{k}\\frac{B(k+\\alpha,n-k,\\beta)}{B(\\alpha,\\beta)}\n",
    "\\end{aligned}\n",
    "\n",
    "Using the properties of the Beta function, this can alternatively be written using the Gamma function."
   ]
  }
 ],
 "metadata": {
  "kernelspec": {
   "display_name": "Python 3",
   "language": "python",
   "name": "python3"
  },
  "language_info": {
   "codemirror_mode": {
    "name": "ipython",
    "version": 3
   },
   "file_extension": ".py",
   "mimetype": "text/x-python",
   "name": "python",
   "nbconvert_exporter": "python",
   "pygments_lexer": "ipython3",
   "version": "3.7.7"
  }
 },
 "nbformat": 4,
 "nbformat_minor": 4
}
