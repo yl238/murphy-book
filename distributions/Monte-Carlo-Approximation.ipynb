{
 "cells": [
  {
   "cell_type": "markdown",
   "metadata": {},
   "source": [
    "# Monte Carlo Approximation\n",
    "\n",
    "How to compute the distribution of a function of an random variable $X$? One powerful approach is as follows: first we generate $S$ samples from the distribution, calling them $x_1,\\ldots x_S$. Given the samples, we can approximate the distribution of $f(X)$ by using the empirical distribution of $\\{f(x_s)\\}_{s=1}^S$. This is called a **Monte Carlo** approximation.\n",
    "\n",
    "We can use Monte Carlo to approximate the *expected value* of any function of a random variable. This involves simply drawing samples and computing the arithmetic mean of the function applied to the samples:\n",
    "$$\n",
    "\\mathbb{E}[f(X)] = \\int f(x)p(x)dx\\approx \\frac{1}{S}\\sum_{s=1}^S f(x_s),\n",
    "$$\n",
    "where $x_s\\sim p(X)$. This is called Monte Carlo integration. It has the advantage over numerical integration (which is based on evaluating the function at a fixed grid of points) that the function is only evaluated in places where there is non-negligible probability.\n",
    "\n",
    "By varying $f$, we can compute many quantities of interest, such as \n",
    "* $\\bar{x} = \\frac{1}{S}\\sum_{s=1}^S x_s \\rightarrow \\mathbb{E}[X]$\n",
    "\n",
    "* $\\frac{1}{S}\\sum_{s=1}^S(x_s - \\bar{x})^2 \\rightarrow \\mathrm{var}[X]$\n",
    "\n",
    "* $\\frac{1}{S}|\\{x_s \\le c\\}| \\rightarrow P(X\\le C)$\n",
    "\n",
    "* median $\\{x_1, \\ldots, x_s\\} \\rightarrow(X)$"
   ]
  }
 ],
 "metadata": {
  "kernelspec": {
   "display_name": "Python 3",
   "language": "python",
   "name": "python3"
  },
  "language_info": {
   "codemirror_mode": {
    "name": "ipython",
    "version": 3
   },
   "file_extension": ".py",
   "mimetype": "text/x-python",
   "name": "python",
   "nbconvert_exporter": "python",
   "pygments_lexer": "ipython3",
   "version": "3.7.7"
  }
 },
 "nbformat": 4,
 "nbformat_minor": 2
}
