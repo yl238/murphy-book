{
 "cells": [
  {
   "cell_type": "markdown",
   "metadata": {},
   "source": [
    "Given a joint distribution $p(\\mathbf{x}_1, \\mathbf{x}_2)$, it is useful to be able to compute marginals $p(\\mathbf{x}_1)$ and conditionals $p(\\mathbf{x}_2|\\mathbf{x}_1)$."
   ]
  },
  {
   "cell_type": "markdown",
   "metadata": {},
   "source": [
    "## Statement of the result\n",
    "### Theorem: Marginals and conditions of an MVN\n",
    "\n",
    "Suppose $\\mathbf{x} = (\\mathbf{x}_1, \\mathbf{x}_2)$ is jointly Gaussian with parameters\n",
    "\n",
    "$$\n",
    "\\boldsymbol\\mu = \\binom{\\boldsymbol\\mu_1}{\\boldsymbol\\mu_2}, \\boldsymbol\\Sigma = \\left(\\begin{array}{ll}\\boldsymbol\\Sigma_{11} & \\boldsymbol\\Sigma_{12} \\\\ \\boldsymbol\\Sigma_{21} & \\boldsymbol\\Sigma_{22}\\end{array}\\right), \\boldsymbol\\Lambda=\\boldsymbol\\Sigma^{-1} =\\left(\\begin{array}{ll}\\boldsymbol\\Lambda_{11} & \\boldsymbol\\Lambda_{12} \\\\ \\boldsymbol\\Lambda_{21} & \\boldsymbol\\Lambda_{22}\\end{array}\\right)\n",
    "$$\n",
    "\n",
    "Then the marginals are given by \n",
    "\n",
    "\\begin{aligned}\n",
    "p(\\mathbf{x}_1) & = \\mathcal{N}(\\mathbf{x}_1|\\boldsymbol\\mu_1, \\boldsymbol\\Sigma_{11}) \\\\\n",
    "p(\\mathbf{x}_2) & = \\mathcal{N}(\\mathbf{x}_2|\\boldsymbol\\mu_2, \\boldsymbol\\Sigma_{22})\n",
    "\\end{aligned}\n",
    "\n"
   ]
  },
  {
   "cell_type": "markdown",
   "metadata": {},
   "source": [
    "The posterior conditional is given by\n",
    "\n",
    "\\begin{aligned}\n",
    "p(\\mathbf{x}_1|\\mathbf{x}_2) & = \\mathcal{N}(\\mathbf{x}_1|\\boldsymbol\\mu_{1|2}, \\boldsymbol\\Sigma_{1|2})\\\\\n",
    "\\boldsymbol\\mu_{1|2} & = \\boldsymbol\\mu_1 + \\boldsymbol\\Sigma_{12}\\boldsymbol\\Sigma_{22}^{-1}(\\mathbf{x}_2-\\boldsymbol\\mu_2)\\\\\n",
    "& = \\boldsymbol\\mu_1-\\boldsymbol\\Lambda_{11}^{-1}\\boldsymbol\\Lambda_{12}(\\boldsymbol{x}_2-\\boldsymbol\\mu_2)\\\\\n",
    "& = \\boldsymbol\\Sigma_{1|2}(\\boldsymbol\\Lambda_{11}\\boldsymbol\\mu_1 - \\boldsymbol\\Lambda_{12}(\\mathbf{x}_2 - \\boldsymbol\\mu_2))\\\\\n",
    "\\boldsymbol\\Sigma_{1|2} & = \\boldsymbol\\Sigma_{11}- \\boldsymbol\\Sigma_{12}\\boldsymbol\\Sigma_{22}^{-1}\\boldsymbol\\Sigma_{21} = \\boldsymbol\\Lambda_{11}^{-1}\n",
    "\\end{aligned}"
   ]
  }
 ],
 "metadata": {
  "kernelspec": {
   "display_name": "Python 3",
   "language": "python",
   "name": "python3"
  },
  "language_info": {
   "codemirror_mode": {
    "name": "ipython",
    "version": 3
   },
   "file_extension": ".py",
   "mimetype": "text/x-python",
   "name": "python",
   "nbconvert_exporter": "python",
   "pygments_lexer": "ipython3",
   "version": "3.7.7"
  }
 },
 "nbformat": 4,
 "nbformat_minor": 4
}
