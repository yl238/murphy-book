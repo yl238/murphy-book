{
 "cells": [
  {
   "cell_type": "markdown",
   "metadata": {},
   "source": [
    "## Exercise 4.2 Uncorrelated and Gaussian does not imply independent unless jointly Gaussian\n",
    "Let $X ∼ \\mathcal{N}(0,1)$ and $Y = WX$, where $p(W = −1) = p(W = 1) = 0.5$. It is clear that $X$ and $Y$ are\n",
    "not independent, since $Y$ is a function of $X$. \n",
    "\n",
    "a. Show $Y \\sim \\mathcal{N}(0,1)$."
   ]
  },
  {
   "cell_type": "markdown",
   "metadata": {},
   "source": [
    "$$\n",
    "P(Y\\le x) = \\mathbb{E}[P(Y \\le x |W)] = P(X\\le x)P(W = 1) + P(-X \\le x)P(W=-1) = \\Phi(x)\n",
    "$$\n",
    "\n",
    "$\\Phi(x)$ is the cumulative density function of the standard normal distribution."
   ]
  },
  {
   "cell_type": "markdown",
   "metadata": {},
   "source": [
    "**Second solution**\n",
    "\n",
    "$$\n",
    "p(y) = p(wx) = p(\\mathrm{sign}(w) x)\n",
    "$$\n",
    "\n",
    "where $\\mathrm{sign}(w)$ is the sign function. The normal is always symmetrical around its mean, so we have $p(x) = p(-x)$, and \n",
    "\n",
    "$$\n",
    "p(y) = p(\\mathrm{sign}(w)x) = p(x)\n",
    "$$"
   ]
  },
  {
   "cell_type": "markdown",
   "metadata": {},
   "source": [
    "b. Show $\\mathrm{cov}[X, Y ] = 0$. Thus $X$ and $Y$ are uncorrelated but dependent, even though they are Gaussian. \n",
    "\n",
    "Hint: use the definition of covariance \n",
    "\n",
    "$$\\mathrm{cov} [X, Y ] = \\mathbb{E} [XY ] − \\mathbb{E} [X] \\mathbb{E} [Y ]\n",
    "$$ \n",
    "\n",
    "and the **rule of iterated expectation**\n",
    "\n",
    "$$\n",
    "\\mathbb{E} [X Y ] = \\mathbb{E} [\\mathbb{E} [X Y |W ]]\n",
    "$$"
   ]
  },
  {
   "cell_type": "markdown",
   "metadata": {},
   "source": [
    "**Solution**:\n",
    "\n",
    "\\begin{aligned}\n",
    "\\mathbb{E}[XY] & = \\mathbb{E}[\\mathbb{E}[XY|W]] = 0.5\\mathbb{E}[XY|W=-1] + 0.5\\mathbb{E}[XY|W=1] \\\\\n",
    "& = 0.5(\\mathbb{E}[-X^2] + \\mathbb{E}[X^2]) \\\\\n",
    "& = 0.5\\mathbb{E}[X^2 - X^2] = 0\n",
    "\\end{aligned}\n",
    "\n",
    "\n",
    "Hence $\\mathrm{cov}[X, Y] = \\mathbb{E}[XY]-\\mathbb{E}[X]\\mathbb{E}[Y] = 0 \\implies \\rho(X, Y) = 0$"
   ]
  }
 ],
 "metadata": {
  "kernelspec": {
   "display_name": "Python 3",
   "language": "python",
   "name": "python3"
  },
  "language_info": {
   "codemirror_mode": {
    "name": "ipython",
    "version": 3
   },
   "file_extension": ".py",
   "mimetype": "text/x-python",
   "name": "python",
   "nbconvert_exporter": "python",
   "pygments_lexer": "ipython3",
   "version": "3.7.7"
  }
 },
 "nbformat": 4,
 "nbformat_minor": 4
}
