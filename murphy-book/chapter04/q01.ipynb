{
 "cells": [
  {
   "cell_type": "markdown",
   "metadata": {},
   "source": [
    "## Exercise 4.1 Uncorrelated does not imply independent\n",
    "Let $X ∼ U(−1,1)$ and $Y = X$. Clearly $Y$ is dependent on $X$ (in fact, $Y$ is uniquely determined by $X$). However, show that $ρ(X,Y) = 0$. Hint: if $X ∼ U(a,b)$ then $E[X] = (a+b)/2$ and $\\mathrm{var}[X] = (b − a)^2/12$."
   ]
  },
  {
   "cell_type": "markdown",
   "metadata": {},
   "source": [
    "Remember the correlation coefficient is defined as \n",
    "\n",
    "$$\n",
    "\\rho(X, Y) = \\frac{\\mathrm{cov}(X, Y)}{\\sqrt{\\mathrm{var}(X)}\\sqrt{\\mathrm{var}(Y)}}\n",
    "$$\n",
    "\n",
    "and $\\mathrm{cov}(X, Y) = \\mathbb{E}[XY] - \\mathbb{X}\\mathbb{Y}$.\n",
    "\n",
    "Substituting $Y=X^2$ in $\\mathbb{E}[XY]$, we get:\n",
    "\n",
    "$$\n",
    "\\mathbb{E}[XY] = \\mathbb{E}[X^3] = \\int_{-1}^1x^3p(x) dx = \\frac{1}{2}\\int_{-1}^1x^3dx = 0\n",
    "$$"
   ]
  },
  {
   "cell_type": "markdown",
   "metadata": {},
   "source": [
    "Since $X\\sim U(-1, 1)$, we have $\\mathbb{E}[X] = 0$, so\n",
    "\n",
    "$$\n",
    "\\mathrm{cov}(X, Y) = \\mathbb{E}[XY] - \\mathbb{E}[X]\\mathbb{E}[Y] = 0\n",
    "$$\n",
    "\n",
    "Therefore $\\rho(X, Y) = 0$."
   ]
  },
  {
   "cell_type": "markdown",
   "metadata": {},
   "source": [
    "**Conclusion**: The null correlation coefficient $\\rho(X, Y) = 0$ only allows us to say with certainty that if $X$ and $Y$ are dependent, the dependence is non-linear."
   ]
  }
 ],
 "metadata": {
  "kernelspec": {
   "display_name": "Python 3",
   "language": "python",
   "name": "python3"
  },
  "language_info": {
   "codemirror_mode": {
    "name": "ipython",
    "version": 3
   },
   "file_extension": ".py",
   "mimetype": "text/x-python",
   "name": "python",
   "nbconvert_exporter": "python",
   "pygments_lexer": "ipython3",
   "version": "3.7.7"
  }
 },
 "nbformat": 4,
 "nbformat_minor": 4
}
