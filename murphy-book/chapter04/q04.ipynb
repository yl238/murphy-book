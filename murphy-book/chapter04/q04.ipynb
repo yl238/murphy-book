{
 "cells": [
  {
   "cell_type": "markdown",
   "metadata": {},
   "source": [
    "## Exercise 4.4 Correlation coefficient for linearly related variables is ±1\n",
    "\n",
    "Show that, if $Y = aX + b$ for some parameters $a > 0$ and $b$, then $ρ(X,Y ) = 1$. Similarly show that if $a < 0$, then $ρ(X, Y ) = −1$."
   ]
  },
  {
   "cell_type": "markdown",
   "metadata": {},
   "source": [
    "### Solution\n",
    "$$\n",
    "\\mathrm{Cov}[X, Y] = \\mathbb{E}[XY]-\\mathbb{E}[X]\\mathbb{E}[Y] = \\mathbb{E}[aX^2 + bX] - \\mathbb{E}[X]\\mathbb{E}[aX + b]\n",
    "$$\n",
    "\n",
    "$$\n",
    "\\mathbb{E}[X^2] = \\sigma_x^2 + \\mu_x^2 \\implies \\mathrm{Cov}[X, Y] = a\\sigma_x^2 + a\\mu_x^2 - \\mu_x(a\\mu_x + b) + b\\mu_x = a\\sigma_x^2\n",
    "$$\n",
    "\n",
    "Therefore,\n",
    "\n",
    "$$\n",
    "\\frac{\\mathrm{Cov}[X, Y]}{\\sigma_x\\sigma_y} = \\frac{a\\sigma_x^2}{\\sigma_x|a|\\sigma_x} = \\mathrm{sng}(a)\n",
    "$$"
   ]
  }
 ],
 "metadata": {
  "kernelspec": {
   "display_name": "Python 3",
   "language": "python",
   "name": "python3"
  },
  "language_info": {
   "codemirror_mode": {
    "name": "ipython",
    "version": 3
   },
   "file_extension": ".py",
   "mimetype": "text/x-python",
   "name": "python",
   "nbconvert_exporter": "python",
   "pygments_lexer": "ipython3",
   "version": "3.7.7"
  }
 },
 "nbformat": 4,
 "nbformat_minor": 4
}
