{
 "cells": [
  {
   "cell_type": "markdown",
   "metadata": {},
   "source": [
    "## Exercise 4.7 Conditioning a bivariate Gaussian\n",
    "Consider a bivariate Gaussian distribution $p(x_1 , x_2 ) = \\mathcal{N} (x|\\mu, \\Sigma)$ where\n",
    "\n",
    "$$\n",
    "\\Sigma = \\left(\\begin{array}{ll}\\sigma_1^2 & \\sigma_{12}\\\\\\sigma_{21} & \\sigma_2^2\\end{array}\\right) = \\sigma_1\\sigma_2\\left(\\begin{array}\\frac{\\sigma_1}{\\sigma_2} & \\rho \\\\ \\rho & \\frac{\\sigma_2}{\\sigma_1}\\end{array}\\right)\n",
    "$$\n",
    "\n",
    "where the correlation coefficient is given by\n",
    "\n",
    "$$\n",
    "\\rho\\triangleq\\frac{\\sigma_{12}}{\\sigma_1\\sigma_2}\n",
    "$$\n",
    "\n",
    "a) What is $P(X_2|x_1)$? Simplify your answer by expressing it in terms of $\\rho, \\sigma_2, \\sigma_1, \\mu_1, \\mu_2$ and $x_1$.\n",
    "\n",
    "### Solution:\n",
    "\n",
    "\\begin{aligned}\n",
    "\\end{aligned}"
   ]
  },
  {
   "cell_type": "code",
   "execution_count": null,
   "metadata": {},
   "outputs": [],
   "source": []
  }
 ],
 "metadata": {
  "kernelspec": {
   "display_name": "Python 3",
   "language": "python",
   "name": "python3"
  },
  "language_info": {
   "codemirror_mode": {
    "name": "ipython",
    "version": 3
   },
   "file_extension": ".py",
   "mimetype": "text/x-python",
   "name": "python",
   "nbconvert_exporter": "python",
   "pygments_lexer": "ipython3",
   "version": "3.7.7"
  }
 },
 "nbformat": 4,
 "nbformat_minor": 4
}
