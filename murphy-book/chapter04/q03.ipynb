{
 "cells": [
  {
   "cell_type": "markdown",
   "metadata": {},
   "source": [
    "## Exercise 4.3 Correlation coefficient is between -1 and +1\n",
    "Prove that $−1 \\le \\rho(X, Y ) \\le 1$"
   ]
  },
  {
   "cell_type": "markdown",
   "metadata": {},
   "source": [
    "Remember that $\\rho(X, Y) = \\frac{\\mathrm{cov}[X, Y]}{\\sigma_x\\sigma_y}$\n",
    "\n",
    "$\\mathrm{cov}[X, Y]^2 = \\mathbb{E}[(X-\\mu)(Y-\\nu)]^2 \\le \\mathbb{E}[(X-\\mu)]^2\\mathbb{E}[(Y-\\nu)]^2 = \\mathrm{var}[X]\\mathrm{var}[Y]$\n",
    "\n",
    "Where we use the Cauchy Schwarz inequality: \n",
    "\n",
    "$$|\\langle \\mathbf {u} ,\\mathbf {v} \\rangle |\\leq \\|\\mathbf {u} \\|\\|\\mathbf {v} \\|.$$\n",
    "\n",
    "where $\\langle \\cdot,\\cdot\\rangle$ is the inner product.\n",
    "\n",
    "So\n",
    "\n",
    "$$\n",
    "\\mathrm{cov}[X, Y]^2 \\le \\mathrm{var}[X]\\mathrm{var}[Y] \\implies -1 \\le \\frac{\\mathrm{cov}[X, Y]}{\\sqrt{\\mathrm{var}[X]\\mathrm{var}[Y]}} = \\rho(X, Y) \\le 1\n",
    "$$"
   ]
  },
  {
   "cell_type": "markdown",
   "metadata": {},
   "source": [
    "### $\\mathbb{E}[XY]$ is an inner product\n",
    "The expectation value defines a real inner product. If $X$ and $Y$ are two discrete random variables, let us define $\\langle X, Y\\rangle$ by \n",
    "\n",
    "$$\n",
    "\\langle X, Y\\rangle = \\mathbb{E}[XY]\n",
    "$$\n",
    "\n",
    "We need to show that $\\langle X, Y\\rangle$ satisfies the axioms of an inner product\n",
    "1. Symmetric: $\\langle X, Y\\rangle = \\langle Y, X\\rangle$\n",
    "\n",
    "    $\\mathbb{E}[XY] = \\sum_{x, y}xy f_{X, Y}(x, y) = \\sum_{y, x}yx f_{Y, X}(x, y) = \\mathbb{E}[Y, X]$\n",
    "    \n",
    "2. Bilinear:\n",
    "\n",
    "    * $\\langle a X, Y\\rangle = \\mathbb{E}[aXY] = a\\mathbb{E}[XY] = a\\langle X, Y\\rangle$\n",
    "    * $\\langle X_1 + X_2, Y\\rangle = \\mathbb{E}[(X_1+X_2)Y] = \\mathbb{E}[X_1, Y] + \\mathbb{E}[X_2, Y] = \\langle X1, Y\\rangle + \\langle X_2, Y\\rangle$\n",
    "    \n",
    "3. Positive definite: \n",
    "    * If $\\langle X, X\\rangle = 0$, then $\\mathbb{E}[X^2] = 0$, whence $\\sum_xx^2f(x) = 0$, whence $xf(x) = 0$ for all $x$. If $x\\ne 0$, then $f(x) = 0$ and thus $f(0) = 1$. In other words, $P(X=0) = 1$ and $X=0$ almost surely.\n",
    "    \n",
    "Note that $f(.)$ is the joint probability mass function."
   ]
  },
  {
   "cell_type": "markdown",
   "metadata": {},
   "source": [
    "### Proof of the Cauchy-Schwarz inequality\n",
    "Let $u$ and $v$ be arbitary vectors in an inner product space over $\\mathbb{C}$.\n",
    "\n",
    "In the special case $v=0$ the theorem is trivially true. Now assume that $v\\ne 0$. Let $\\lambda \\in \\mathbb{C}$ be given by $\\lambda = \\langle u, v \\rangle \\|v\\|^2$, then \n",
    "\n",
    "\\begin{aligned}\n",
    "0 & \\le \\|u-\\lambda\\cdot u\\|^2\\\\\n",
    "& = \\langle u, u\\rangle - \\langle\\lambda\\cdot v, u\\rangle - \\langle u,\\lambda\\cdot v\\rangle + \\langle\\lambda\\cdot v, \\lambda\\cdot v\\rangle\\\\\n",
    "& = \\langle u, u\\rangle - \\lambda\\langle v, u\\rangle - \\overline{\\lambda}\\langle u, v\\rangle + \\lambda\\bar{\\lambda}\\langle v, v\\rangle \\\\\n",
    "& = \\|u\\|^2 - \\lambda\\overline{\\langle u, v\\rangle} - \\bar{\\lambda}\\langle u, v\\rangle + \\lambda\\bar{\\lambda}\\|v\\|^2 \\\\\n",
    "& = \\|u\\|^2 - \\frac{|\\langle u, v\\rangle|^2}{\\|v\\|^2} - \\frac{|\\langle u, v\\rangle|^2}{\\|v\\|^2} + \\frac{|\\langle u, v\\rangle|^2}{\\|v\\|^2} \\\\\n",
    "& = \\|u\\|^2 - \\frac{|\\langle u, v\\rangle|^2}{\\|v\\|^2}\n",
    "\\end{aligned}\n",
    "\n",
    "Therefore, $0\\le\\|u\\|^2 - \\frac{|\\langle u, v\\rangle|^2}{\\|v\\|^2}$, or $|\\langle u, v\\rangle| \\le \\|u\\|\\|v\\|$\n",
    "\n",
    "If equality then $\\|u-\\lambda\\cdot v\\| = 0$ and so $u - \\lambda\\cdot v = 0$, thus $u$ and $v$ are linearly dependent."
   ]
  }
 ],
 "metadata": {
  "kernelspec": {
   "display_name": "Python 3",
   "language": "python",
   "name": "python3"
  },
  "language_info": {
   "codemirror_mode": {
    "name": "ipython",
    "version": 3
   },
   "file_extension": ".py",
   "mimetype": "text/x-python",
   "name": "python",
   "nbconvert_exporter": "python",
   "pygments_lexer": "ipython3",
   "version": "3.7.7"
  }
 },
 "nbformat": 4,
 "nbformat_minor": 4
}
