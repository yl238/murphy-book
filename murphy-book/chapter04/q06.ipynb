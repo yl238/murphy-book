{
 "cells": [
  {
   "cell_type": "markdown",
   "metadata": {},
   "source": [
    "## Exercise 4.6 Bivariate Gaussian\n",
    "Let $x\\sim\\mathcal{N}(\\boldsymbol\\mu,\\boldsymbol\\Sigma)$ where $x\\in\\mathbb{R}^2$ and\n",
    "\n",
    "$$\n",
    "\\boldsymbol\\Sigma = \\left(\\begin{array}{ll}\\sigma_1^2 & \\rho\\sigma_1\\sigma_2 \\\\ \\rho\\sigma_1\\sigma_2 & \\sigma_2^2\\end{array}\\right)\n",
    "$$\n",
    "\n",
    "where $\\rho$ is the correlation coefficient. Show that the pdf is given by\n",
    "\n",
    "\\begin{aligned}\n",
    "p(x_1, x_2) & = \\frac{1}{2\\pi\\sigma_1\\sigma_2\\sqrt{1-\\rho^2}}\\\\\n",
    "            & \\mathrm{exp}\\left(-\\frac{1}{2(1-\\rho^2)}\\left(\\frac{(x_1-\\mu_1)^2}{\\sigma_1^2} + \\frac{(x_2 - \\mu_2)^2}{\\sigma_2^2} - 2\\rho\\frac{(x_1-\\mu_1)}{\\sigma_1}\\frac{(x_2-\\mu_2)^2}{\\sigma_2}\\right)\\right)\n",
    "\\end{aligned}"
   ]
  },
  {
   "cell_type": "markdown",
   "metadata": {},
   "source": [
    "**Solution**:\n",
    "\n",
    "There's a lot of faff, so just the outline here. Remember the equation of D-dimensional Gaussian is given by \n",
    "\n",
    "$$\n",
    "\\mathcal{N}(\\mathbf{x}|\\boldsymbol\\mu, \\boldsymbol\\Sigma) = \\frac{1}{(2\\pi)^{D/2}|\\boldsymbol\\Sigma|^{1/2}}\\mathrm{exp}\\left[-\\frac{1}{2}(\\mathbf{x}-\\boldsymbol\\mu)^T\\boldsymbol\\Sigma^{-1}(\\mathbf{x}-\\boldsymbol\\mu)\\right]\n",
    "$$\n",
    "\n",
    "So in 2D, $\\mathbf{x} - \\boldsymbol\\mu = \\left(\\begin{array}{l}x_1-\\mu_1 \\\\ x_2-\\mu_2\\end{array}\\right)$\n",
    "\n",
    "Also\n",
    "\n",
    "$$\n",
    "\\mathrm{det}\\boldsymbol\\Sigma = |\\boldsymbol\\Sigma| = (1-\\rho^2)\\sigma_1^2-\\sigma_2^2.\n",
    "$$\n",
    "\n",
    "Finally, \n",
    "\n",
    "$$\n",
    "\\boldsymbol\\Sigma^{-1} = \\frac{1}{\\mathrm{det}(\\boldsymbol\\Sigma)}\\left(\\begin{array}{ll}\\sigma_2^2 & -\\rho\\sigma_1\\sigma_2 \\\\\n",
    "-\\rho\\sigma_1\\sigma_2 & \\sigma_1^2\\end{array}\\right)\n",
    "$$"
   ]
  },
  {
   "cell_type": "markdown",
   "metadata": {},
   "source": [
    "Substitute into the equation for the Gaussian distribution to obtain the desired result."
   ]
  }
 ],
 "metadata": {
  "kernelspec": {
   "display_name": "Python 3",
   "language": "python",
   "name": "python3"
  },
  "language_info": {
   "codemirror_mode": {
    "name": "ipython",
    "version": 3
   },
   "file_extension": ".py",
   "mimetype": "text/x-python",
   "name": "python",
   "nbconvert_exporter": "python",
   "pygments_lexer": "ipython3",
   "version": "3.7.7"
  }
 },
 "nbformat": 4,
 "nbformat_minor": 4
}
