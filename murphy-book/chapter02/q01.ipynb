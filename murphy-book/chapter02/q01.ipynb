{
 "cells": [
  {
   "cell_type": "markdown",
   "metadata": {},
   "source": [
    "## Exercise 2.1\n",
    "\n",
    "Probabilities are sensitive to the form of the question that was used to generate the answer.\n",
    "\n",
    "My neighbor has two children. Assuming that the gender of a child is like a coin flip, it is most likely, a priori, that my neighbor has one boy and one girl, with probability 1/2. The other possibilities—two boys or two girls—have probabilities 1/4 and 1/4.\n",
    "\n",
    "a. Suppose I ask him whether he has any boys, and he says yes. What is the probability that one child is a girl?\n",
    "\n",
    "b. Suppose instead that I happen to see one of his children run by, and it is a boy. What is the probability that the other child is a girl?"
   ]
  },
  {
   "cell_type": "markdown",
   "metadata": {},
   "source": [
    "## Solution\n",
    "### (a)\n",
    "Before we asked the question, the sample space was \n",
    "\n",
    "$$\n",
    "\\Omega = \\{BB, GG, BG, GB\\}\n",
    "$$\n",
    "\n",
    "where $B$ represents a boy and $G$ represents a girl. When the neighbour answers affirmatively, he is saying he has at least one boy. So the new sample space is composed by:\n",
    "\n",
    "$$\n",
    "\\Omega = \\{BB, BG, GB\\},\n",
    "$$\n",
    "\n",
    "thus eliminating the event where there were two girls. Therefore, the probability of having a girl is:\n",
    "\n",
    "$$\n",
    "\\frac{|\\{BG, GB\\}|}{|\\Omega|} = \\frac{2}{3}.\n",
    "$$\n",
    "\n",
    "More formally, \n",
    "\n",
    "$$\n",
    "P(G=1 | B\\ge 1) = \\frac{P(G=1, B\\ge 1)}{P(B\\ge 1)} = \\frac{2/4}{3/4} = \\frac{2}{3}.\n",
    "$$\n"
   ]
  },
  {
   "cell_type": "markdown",
   "metadata": {},
   "source": [
    "### (b)\n",
    "Knowing the sex of one child has no influence on the sex of the other child. So there is a 50% chance of the other child being a girl.\n",
    "\n",
    "#### Formal solution:\n",
    "Events:\n",
    "* S - Sex of the known child\n",
    "* T - Sex of the unknown child\n",
    "\n",
    "$$\n",
    "P(T=G | S=B) = \\frac{P(T=G, S=B)}{P(S=B)} = P(T=G) = \\frac{1}{2}.\n",
    "$$"
   ]
  }
 ],
 "metadata": {
  "kernelspec": {
   "display_name": "Python 3",
   "language": "python",
   "name": "python3"
  },
  "language_info": {
   "codemirror_mode": {
    "name": "ipython",
    "version": 3
   },
   "file_extension": ".py",
   "mimetype": "text/x-python",
   "name": "python",
   "nbconvert_exporter": "python",
   "pygments_lexer": "ipython3",
   "version": "3.7.7"
  }
 },
 "nbformat": 4,
 "nbformat_minor": 4
}
