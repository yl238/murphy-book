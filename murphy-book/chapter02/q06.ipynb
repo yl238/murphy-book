{
 "cells": [
  {
   "cell_type": "markdown",
   "metadata": {},
   "source": [
    "## Exercise 2.6 Conditional independence (Source: Koller.)\n",
    "a. Let $H\\in\\{1,\\ldots, K\\}$ be a discrete random variable, and let $e_1$ and $e_2$ be the observed values of two other random variables $E_1$ and $E_2$. Suppose we wish to calculate the vector\n",
    "\n",
    "$$\n",
    "\\overrightarrow{P}(H|e_1,e_2) = (P(H = 1|e_1,e_2),\\ldots,P(H = K|e_1,e_2))\n",
    "$$\n",
    "\n",
    "Which of the following sets of numbers are sufficient for the calculation? \n",
    "- i. $P(e_1,e_2)$, $P(H)$, $P(e_1|H)$, $P(e_2|H)$\n",
    "- ii. $P(e_1,e_2)$, $P(H)$, $P(e_1,e_2|H)$\n",
    "- iii. $P(e_1|H)$, $P(e_2|H)$, $P(H)$\n",
    "\n",
    "b. Now suppose we now assume $E_1\\perp E_2|H$ (i.e., $E_1$ and $E_2$ are conditionally independent given $H$). Which of the above 3 sets are sufficent now?\n",
    "\n",
    "Show your calculations as well as giving the final result. Hint: use Bayes rule."
   ]
  },
  {
   "cell_type": "markdown",
   "metadata": {},
   "source": [
    "### Solution \n",
    "#### (a)\n",
    "Use Bayes's rule:\n",
    "\n",
    "$$\n",
    "P(H|e_1, e_2) = \\frac{P(e_1, e_2 |H)P(H)}{P(e_1, e_2)}\n",
    "$$\n",
    "\n",
    "Therefore, we need $P(e_1, e_2)$, $P(H)$ and $P(e_1,e_2|H)$ to calculate the probability vector. This corresponds to choice (ii)."
   ]
  },
  {
   "cell_type": "markdown",
   "metadata": {},
   "source": [
    "#### (b)\n",
    "Knowing that $E_1\\perp E_2|H$ we can perform one more step on (1)\n",
    "\n",
    "\\begin{aligned}\n",
    "P(H|e_1, e_2) & = \\frac{P(e_1, e_2|H)P(H)}{P(e_1, e_2)} \\\\\n",
    "& = \\frac{P(e_1|H)P(e_2|H)P(H)}{P(e_1, e_2)}\n",
    "\\end{aligned}"
   ]
  },
  {
   "cell_type": "markdown",
   "metadata": {},
   "source": [
    "There is one more step that we need to perform. For this, let's marginalize the joint distribution in terms of $H$\n",
    "\n",
    "$$\n",
    "P(e_1, e_2) = \\sum_hP(e_1, e_2, h) = \\sum_hP(h)P(e_1,e_2|h) = \\sum_hP(h)P(e_1|h)P(e_2|h)\n",
    "$$\n",
    "\n",
    "In the last step, we made use of the conditional independency property between $E_1$ and $E_2$, so we demonstrated that the joint distribution $P(e_1, e_2)$ can be decomposed in terms of $P(H)$, $P(e_1|H)$ and $P(e_2|H)$. Thus the correct answer is (iii)."
   ]
  }
 ],
 "metadata": {
  "kernelspec": {
   "display_name": "Python 3",
   "language": "python",
   "name": "python3"
  },
  "language_info": {
   "codemirror_mode": {
    "name": "ipython",
    "version": 3
   },
   "file_extension": ".py",
   "mimetype": "text/x-python",
   "name": "python",
   "nbconvert_exporter": "python",
   "pygments_lexer": "ipython3",
   "version": "3.7.7"
  }
 },
 "nbformat": 4,
 "nbformat_minor": 4
}
