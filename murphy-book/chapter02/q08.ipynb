{
 "cells": [
  {
   "cell_type": "code",
   "execution_count": 1,
   "metadata": {},
   "outputs": [
    {
     "data": {
      "application/javascript": [
       "MathJax.Hub.Config({\n",
       "    TeX: { equationNumbers: { autoNumber: \"AMS\" } }\n",
       "});\n"
      ],
      "text/plain": [
       "<IPython.core.display.Javascript object>"
      ]
     },
     "metadata": {},
     "output_type": "display_data"
    }
   ],
   "source": [
    "%%javascript\n",
    "MathJax.Hub.Config({\n",
    "    TeX: { equationNumbers: { autoNumber: \"AMS\" } }\n",
    "});"
   ]
  },
  {
   "cell_type": "markdown",
   "metadata": {},
   "source": [
    "## Exercise 2.8 Conditional independence iff joint factorizes\n",
    "In the text we said $X\\perp Y |Z$ iff\n",
    "\n",
    "$$\n",
    "p(x, y|z) = p(x|z)p(y|z) \n",
    "$$\n",
    "\n",
    "for all $x$, $y$, $z$ such that $p(z) > 0$. Now prove the following alternative definition: $X \\perp Y |Z$ iff there exist function $g$ and $h$ such that\n",
    "\n",
    "$$\n",
    "p(x, y|z) = g(x, z)h(y, z) \n",
    "$$\n",
    "\n",
    "for all $x$, $y$, $z$ such that $p(z) > 0$."
   ]
  },
  {
   "cell_type": "markdown",
   "metadata": {},
   "source": [
    "### Solution\n",
    "The intuition behind the alternative definition is based on the chain rule:\n",
    "\n",
    "$$\n",
    "p(x, y|z) = p(x|z)p(y|x, z).\n",
    "$$\n",
    "\n",
    "Note that the first term is just a function of $X$ and $Z$ ($g(x, z)$) and the second term is a function of the three random variables $X$, $Y$ and $Z$. Only if $X\\perp Y|Z$ then we can decouple the functions as we wanted. \n",
    "\n",
    "Furthermore, if we know that $p(x, y |z)$ can be decoupled, then it makes sense that $p(y|x, z) = p(y|z) = h(y, z)$."
   ]
  },
  {
   "cell_type": "markdown",
   "metadata": {},
   "source": [
    "Prove the **If** part:\n",
    "\n",
    "$$\n",
    "p(x, y|z) = g(x, z)h(y, z) \\implies p(x, y|z)=p(x|z)p(y|z)\n",
    "$$\n",
    "\n",
    "Let's sum all possible cases of $x$ and $y$ on the pdf. We are assuming discrete random variables. \n",
    "\n",
    "\\begin{equation}\n",
    "\\sum_x\\sum_yp(x, y|z) = 1\n",
    "\\end{equation}\n",
    "\n",
    "At the same time, \n",
    "\n",
    "\\begin{equation}\n",
    "\\sum_x\\sum_y p(x, y |z) = \\sum_x\\sum_y g(x, z)h(y, z) = (\\sum_x g(x, z))(\\sum_y h(y, z))\n",
    "\\end{equation}\n",
    "\n",
    "From this we arrive at \n",
    "\n",
    "\\begin{equation}\n",
    "(\\sum_x g(x, z))(\\sum_y h(y, z)) = 1\n",
    "\\end{equation}\n",
    "\n",
    "Let's calculate the marginal distributions of $p(x, y | z)$:\n",
    "\n",
    "\\begin{equation}\n",
    "p(y|z) = \\sum_x p(x, y| z) = \\sum_x g(x, z) h(y, z) = h(y, z)\\sum_x g(x, z)\n",
    "\\end{equation}\n",
    "\n",
    "Isolating $\\sum_xg(x, z)$, we get\n",
    "\n",
    "\\begin{equation}\n",
    "\\sum_x g(x, z) = \\frac{p(y|z)}{h(y, z)}\n",
    "\\end{equation}"
   ]
  },
  {
   "cell_type": "markdown",
   "metadata": {},
   "source": [
    "Now marginalize $x$\n",
    "\n",
    "\\begin{equation}\n",
    "p(x|z) = \\sum_y p(x, y |z) = \\sum_y g(x, z)h(y, z) = g(x, z)\\sum_y h(y, z)\n",
    "\\end{equation}\n",
    "\n",
    "Isolating $\\sum_y h(y, z)$, we get\n",
    "\n",
    "\\begin{equation}\n",
    "\\sum_y h(y, z) = \\frac{p(x|z)}{g(x, z)}\n",
    "\\end{equation}\n",
    "\n",
    "Finally, multiplying (5) and (7) and substituting (3) on the result we get:\n",
    "\n",
    "\\begin{equation}\n",
    "\\sum_x g(x, z)\\sum_y h(y, z) = \\frac{p(y|z)p(x|z)}{h(y, z)g(x, z)} = 1\n",
    "\\end{equation}\n",
    "\n",
    "Thus $h(y, z) = p(y|z)$ and $g(x, z)=p(x|z)$ and we proved that $p(x, y|z) = g(x, z)h(y,z) \\implies p(x,y|z) = p(x|z)p(y|z)$."
   ]
  },
  {
   "cell_type": "markdown",
   "metadata": {},
   "source": [
    "**Only if**\n",
    "\n",
    "$p(x|z)$ is only a function of $x$ and $z$, so $p(x|z) = g(x, z)$. using the same argument for $y$ and $z$, we get $p(y|z) = h(y,z)$.\n",
    "\n",
    "So \n",
    "$$\n",
    "p(x, y|z) = p(x|z)p(y|z) \\implies p(x, y|z) = g(x, z)h(y, z)\n",
    "$$\n",
    "\n",
    "This result is important because initially we know that conditional independence is achieved if we could decouple the **conditional probabilities** of $X$ and $Y$. With this we know that the decomposition of $p(x, y|z)$ into **any** pair of function $g(x, z)$ and $h(y,z)$ implies conditional probability."
   ]
  }
 ],
 "metadata": {
  "kernelspec": {
   "display_name": "Python 3",
   "language": "python",
   "name": "python3"
  },
  "language_info": {
   "codemirror_mode": {
    "name": "ipython",
    "version": 3
   },
   "file_extension": ".py",
   "mimetype": "text/x-python",
   "name": "python",
   "nbconvert_exporter": "python",
   "pygments_lexer": "ipython3",
   "version": "3.7.7"
  }
 },
 "nbformat": 4,
 "nbformat_minor": 4
}
