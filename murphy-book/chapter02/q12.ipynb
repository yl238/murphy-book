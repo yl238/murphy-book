{
 "cells": [
  {
   "cell_type": "markdown",
   "metadata": {},
   "source": [
    "## Exercise 2.12 Expressing mutual information in terms of entropies\n",
    "Show that\n",
    "\n",
    "$$\n",
    "I(X,Y) = H(X)−H(X|Y) = H(Y)−H(Y|X)\n",
    "$$"
   ]
  },
  {
   "cell_type": "markdown",
   "metadata": {},
   "source": [
    "In this question, we will demonstrate the relationship between mutual information and entropy. Before starting the solution, remember that the **mutual information** between two random variables is a **more general way of measuring the relationship between them** than the correlation coefficient.\n",
    "\n",
    "On the other hand, **entropy is a measure of uncertainty**. Thus, we expect two situations. Either the mutual information is zero, and the conditional entropy does not change, or the mutual information is positive and the conditional entropy is less than the prior entropy. In another words, the mutual information is a measure of how the knowledge of one random variable takes away the uncertainty of the other random variable."
   ]
  },
  {
   "cell_type": "markdown",
   "metadata": {},
   "source": [
    "### Solution\n",
    "We want to show that:\n",
    "\n",
    "$$\n",
    "I(X, Y) = H(X) - H(X|Y)\n",
    "$$\n",
    "\n",
    "Let's start by expanding the three terms:\n",
    "\n",
    "$$\n",
    "I(X, Y) = \\sum_x\\sum_yp_{xy}\\log\\left(\\frac{p_{xy}}{p_xp_y}\\right)\n",
    "$$\n",
    "\n",
    "$$\n",
    "H(X) = -\\sum_x p_x\\log(p_x)\n",
    "$$\n",
    "\n",
    "$$\n",
    "H(X|Y) = \\sum_yp_y\\log(X|Y=y)\n",
    "$$\n",
    "We should expand the latter two equations to get double summations on $x$ and $y$:\n",
    "\n",
    "We realise that $p_x$ is the marginalization of $p_{xy}$ with respect to $y$\n",
    "\n",
    "$$\n",
    "H(X) = -\\sum_xp_x\\log(p_x) = -\\sum_x\\sum_yp_{xy}\\log(p_x)\n",
    "$$\n",
    "\n",
    "To expand $H(X|Y)$, we need the following, using Bayes' rule $p(x|y)p(y) = p(x, y)$.\n",
    "\n",
    "$$\n",
    "H(X|Y) = \\sum_yp_yH(X|Y=y) = -\\sum_y\\sum_x p_yp_{x|y}\\log(p_{x|y}) = -\\sum_y\\sum_xp_{xy}\\log\\left(\\frac{p_{xy}}{p_y}\\right)\n",
    "$$"
   ]
  },
  {
   "cell_type": "markdown",
   "metadata": {},
   "source": [
    "The final passage consisting of combining the two and compare:\n",
    "\n",
    "\\begin{aligned}\n",
    "H(X) - H(X|Y)  & = -\\sum_x\\sum_yp_{xy}\\log(p_x) + \\sum_y\\sum_xp_{xy}\\log\\left(\\frac{p_{xy}}{p_y}\\right) \\\\\n",
    "& = \\sum_x\\sum_y p_{xy}\\log\\left(\\frac{p_xy}{p_xp_y}\\right) = I(X, Y)\n",
    "\\end{aligned}"
   ]
  }
 ],
 "metadata": {
  "kernelspec": {
   "display_name": "Python 3",
   "language": "python",
   "name": "python3"
  },
  "language_info": {
   "codemirror_mode": {
    "name": "ipython",
    "version": 3
   },
   "file_extension": ".py",
   "mimetype": "text/x-python",
   "name": "python",
   "nbconvert_exporter": "python",
   "pygments_lexer": "ipython3",
   "version": "3.7.7"
  }
 },
 "nbformat": 4,
 "nbformat_minor": 4
}
