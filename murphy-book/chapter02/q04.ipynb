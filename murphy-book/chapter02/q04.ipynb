{
 "cells": [
  {
   "cell_type": "markdown",
   "metadata": {},
   "source": [
    "## Exercise 2.4 Bayes rule for medical diagnosis\n",
    "(Source: Koller.) After your yearly checkup, the doctor has bad news and good news. The bad news is that you tested positive for a serious disease, and that the test is 99% accurate (i.e., the probability of testing positive given that you have the disease is 0.99, as is the probability of tetsing negative given that you don’t have the disease). The good news is that this is a rare disease, striking only one in 10,000 people. What are the chances that you actually have the disease? (Show your calculations as well as giving the final result.)"
   ]
  },
  {
   "cell_type": "markdown",
   "metadata": {},
   "source": [
    "### Solution\n",
    "Events:\n",
    "* D - The patient has the disease\n",
    "* T - The test for the disease is positive\n",
    "\n",
    "We want to know the probability of having the disease, given that the result of the test was positive. In probability terms, we want to know\n",
    "\n",
    "$$\n",
    "P(D = \\text{True} | T = \\text{True}).\n",
    "$$\n",
    "\n",
    "By Bayes's rule:\n",
    "\n",
    "$$\n",
    "P(D = \\text{True} | T = \\text{True}) = \\frac{P(T = \\text{True} | D = \\text{True})P(D = \\text{True})}{P(T=\\text{True})}\n",
    "$$"
   ]
  },
  {
   "cell_type": "markdown",
   "metadata": {},
   "source": [
    "Now we need to compute the three terms on the right:\n",
    "\n",
    "$$\n",
    "P(D = \\text{True}) = \\frac{1}{10000},\n",
    "$$\n",
    "because the disease strikes one in 10,000 people\n",
    "\n",
    "$$\n",
    "P(T = \\text{True}|D = \\text{True}) = 0.99,\n",
    "$$\n",
    "because of the accuracy of the test.\n",
    "\n",
    "\\begin{aligned}\n",
    "P(T = \\text{True}) & = P(T = \\text{True}, D = \\text{True}) + P(T = \\text{True}, D = \\text{False}) \\\\\n",
    "& = P(T = \\text{True}|D = \\text{True})P(D = \\text{True}) + P(T = \\text{true}|D = \\text{False})P(D=\\text{False})\\\\\n",
    "\\end{aligned}"
   ]
  },
  {
   "cell_type": "markdown",
   "metadata": {},
   "source": [
    "$$P(T=\\text{True}|D=\\text{False}) = 1 - P(T=\\text{False}|D = \\text{False}) = 0.01,$$ because the probability of the test to be negative when the patient do not have the disease is also 0.99."
   ]
  },
  {
   "cell_type": "markdown",
   "metadata": {},
   "source": [
    "Substituting in, we have \n",
    "\n",
    "$$\n",
    "P(T=\\text{True}) = \\frac{0.99}{10000} + \\frac{9999}{10000}*0.01 \\approx 0.01\n",
    "$$\n",
    "\n",
    "Finally, the probability of actually having the disease is \n",
    "\n",
    "$$\n",
    "P(D =\\text{True}| T=\\text{True}) = 0.99/(10000 * 0.01) = 0.99\\%.\n",
    "$$\n",
    "\n",
    "This shows the importance of the prior in the final result."
   ]
  }
 ],
 "metadata": {
  "kernelspec": {
   "display_name": "Python 3",
   "language": "python",
   "name": "python3"
  },
  "language_info": {
   "codemirror_mode": {
    "name": "ipython",
    "version": 3
   },
   "file_extension": ".py",
   "mimetype": "text/x-python",
   "name": "python",
   "nbconvert_exporter": "python",
   "pygments_lexer": "ipython3",
   "version": "3.7.7"
  }
 },
 "nbformat": 4,
 "nbformat_minor": 4
}
