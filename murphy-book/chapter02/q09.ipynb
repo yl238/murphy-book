{
 "cells": [
  {
   "cell_type": "markdown",
   "metadata": {},
   "source": [
    "## Exercise 2.9 Conditional independence\n",
    "(Source: Koller.) Are the following properties true? Prove or disprove. Note that we are not restricting\n",
    "attention to distributions that can be represented by a graphical model. \n",
    "* a. True or false? $(X\\perp W|Z,Y)\\land(X\\perp Y|Z)\\Rightarrow(X\\perp Y,W|Z)$\n",
    "* b. True or false?$(X\\perp Y|Z)\\land(X\\perp Y|W)\\Rightarrow(X\\perp Y|Z,W)$"
   ]
  },
  {
   "cell_type": "markdown",
   "metadata": {},
   "source": [
    "### Solution\n",
    "#### (a)\n",
    "We have two information about conditional independence: The first one is\n",
    "\n",
    "$$\n",
    "X\\perp W |Z, Y.\n",
    "$$\n",
    "\n",
    "Based on this, we can state:\n",
    "\\begin{equation}\n",
    "p(x, w |z, y) = p(x |z, y) p(w|z, y) \n",
    "\\end{equation}\n",
    "\n",
    "The second one is:\n",
    "\n",
    "$$\n",
    "X\\perp Y|Z\n",
    "$$\n",
    "\n",
    "Based on this, we can state that:\n",
    "\n",
    "\\begin{equation}\n",
    "p(x, y|z) = p(x|z)p(y|z)\n",
    "\\end{equation}\n",
    "\n",
    "Now we have to see if $X\\perp Y, W|Z$ is true.\n",
    "\n",
    "\\begin{equation}\n",
    "p(x, y, w|z) = p(w|y, x, z)p(y|x, z)p(x|z) = p(x|z)p(y|z)p(w|y, z) = p(x|z)p(y, w|z)\n",
    "\\end{equation}\n",
    "\n",
    "- The first passage is the chain rule of probability\n",
    "- The second makes use of the conditional independences given to us ($Y$ does not dependent on $X$ given $Z$ and $W$ does not depend on $X$ given $Z$ and $Y$)\n",
    "- The third puts the joint distribution back together. So the proposition is **True**."
   ]
  },
  {
   "cell_type": "markdown",
   "metadata": {},
   "source": [
    "#### (b)\n",
    "Prove this proposition is false with a counter example. Start by defining $X$, $Y$ and $Z$ to be iid random variables with the following distribution:\n",
    "\n",
    "\\begin{equation}\\left\\{\n",
    "\\begin{array}{l}\n",
    "P(X=1) = 0.5 \\\\ \n",
    "P(X=-1) = 0.5\n",
    "\\end{array}\\right.\n",
    "\\end{equation}\n",
    "\n",
    "Also, define $W=XYZ$. First prove that the two conditional independences $X\\perp Y|Z$ and $X\\perp Y|W$ are true."
   ]
  }
 ],
 "metadata": {
  "kernelspec": {
   "display_name": "Python 3",
   "language": "python",
   "name": "python3"
  },
  "language_info": {
   "codemirror_mode": {
    "name": "ipython",
    "version": 3
   },
   "file_extension": ".py",
   "mimetype": "text/x-python",
   "name": "python",
   "nbconvert_exporter": "python",
   "pygments_lexer": "ipython3",
   "version": "3.7.7"
  }
 },
 "nbformat": 4,
 "nbformat_minor": 4
}
