{
 "cells": [
  {
   "cell_type": "markdown",
   "metadata": {},
   "source": [
    "## Exercise 2.2 Legal reasoning\n",
    "(Source: Peter Lee.) Suppose a crime has been committed. Blood is found at the scene for which there is\n",
    "no innocent explanation. It is of a type which is present in 1% of the population.\n",
    "\n",
    "a. The prosecutor claims: “There is a 1% chance that the defendant would have the crime blood type if he were innocent. Thus there is a 99% chance that he guilty”. This is known as the prosecutor’s fallacy. What is wrong with this argument?\n",
    "\n",
    "b. The defender claims: “The crime occurred in a city of 800,000 people. The blood type would be found in approximately 8000 people. The evidence has provided a probability of just 1 in 8000 that the defendant is guilty, and thus has no relevance.” This is known as the defender’s fallacy. What is wrong with this argument?"
   ]
  },
  {
   "cell_type": "markdown",
   "metadata": {},
   "source": [
    "## Solution\n",
    "### (a)\n",
    "Events\n",
    "* A - Defendent is innocent\n",
    "* B - Defendent has the blood type found at the crime scene.\n",
    "\n",
    "$$\n",
    "P(B=\\text{True}) = 1\\%\n",
    "$$\n",
    "\n",
    "The prosecutor is saying $P(B = \\text{true}|A = \\text{True}) = 1\\%$. The prosecutor is confusing the concept of prior with the concept of conditional probability."
   ]
  },
  {
   "cell_type": "markdown",
   "metadata": {},
   "source": [
    "### (b)\n",
    "\n",
    "The defender's fallacy is that it neglects that the blood test together with other evidences can raise the probability of the suspect. Being more specific, there are other evidences besides the blood test in a trial. The union of all evidences will raise the probability of the defendant being the criminal. Thus the blood test has relevance and cannot be neglected."
   ]
  }
 ],
 "metadata": {
  "kernelspec": {
   "display_name": "Python 3",
   "language": "python",
   "name": "python3"
  },
  "language_info": {
   "codemirror_mode": {
    "name": "ipython",
    "version": 3
   },
   "file_extension": ".py",
   "mimetype": "text/x-python",
   "name": "python",
   "nbconvert_exporter": "python",
   "pygments_lexer": "ipython3",
   "version": "3.7.7"
  }
 },
 "nbformat": 4,
 "nbformat_minor": 4
}
