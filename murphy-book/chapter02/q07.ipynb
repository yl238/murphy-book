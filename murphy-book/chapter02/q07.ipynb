{
 "cells": [
  {
   "cell_type": "markdown",
   "metadata": {},
   "source": [
    "## Exercise 2.7 Pairwise independence does not imply mutual independence \n",
    "We say that two random variables are pairwise independent if\n",
    "\n",
    "$$\n",
    "p(X_2|X_1) = p(X_2) \n",
    "$$\n",
    "\n",
    "and hence\n",
    "\n",
    "$$\n",
    "p(X_2,X_1) = p(X_1)p(X_2|X_1) = p(X_1)p(X_2).\n",
    "$$\n",
    "\n",
    "\n",
    "We say that $n$ random variables are mutually independent if\n",
    "$p(X_i|X_S)=p(X_i) \\forall S\\subseteq\\{1,\\ldots,n\\} \\backslash \\{i\\}$ and hence\n",
    "\n",
    "$$\n",
    "p(X_{1:n}) = \\prod_{i=1}^np(X_i)\n",
    "$$\n",
    "\n",
    "Show that pairwise independence between all pairs of variables does not necessarily imply mutual independence. It suffices to give a counter example."
   ]
  },
  {
   "cell_type": "markdown",
   "metadata": {},
   "source": [
    "### Solution\n",
    "We just need to show one counter example: use the classical [Bernstein's example](https://www.maa.org/sites/default/files/Stepniak-1-0734037.pdf).\n",
    "A discussion on the most general way to generate pairwise indpendent random variables is given here: https://mathoverflow.net/questions/7998/most-general-way-to-generate-pairwise-independent-random-variables\n",
    "\n",
    "Let $X$, $Y$, and $Z$ be three binary random variables $(X, Y, Z \\in \\{0, 1\\})$. Let's define its joint probability distribution, using the following equation\n",
    "\n",
    "$$\n",
    "P(X, Y, Z) = \\frac{1}{4}(X\\oplus Y\\oplus Z)\n",
    "$$\n",
    "\n",
    "where $\\oplus$ is the 'exclusive or' (XOR) operation. The XOR operation between several values outputs 1 if the number of ones is odd, and 0 otherwise, With the joint probability defined, we can calculate all the marginal probabilities starting from the table of the joint distribution.\n",
    "\n",
    "\\begin{array}{llll}\n",
    "X & Y & Z & P(X, Y, Z)\\\\\n",
    "0 & 0 & 0 & 0\\\\\n",
    "0 & 0 & 1 & 1/4 \\\\\n",
    "0 & 1 & 0 & 1/4 \\\\\n",
    "0 & 1 & 1 & 0 \\\\\n",
    "1 & 0 & 0 & 1/4 \\\\\n",
    "1 & 0 & 1 & 0 \\\\\n",
    "1 & 1 & 0 & 0 \\\\\n",
    "1 & 1 & 1 & 1/4\n",
    "\\end{array}"
   ]
  },
  {
   "cell_type": "markdown",
   "metadata": {},
   "source": [
    "In order to calculate the marginals, we just sum the table above on the variables we are not interested in. For instance,\n",
    "\n",
    "$$\n",
    "P(X=1, Y=1) = P(X=1, Y=1, Z=1) + P(X=1, Y=1, Z=0)\n",
    "$$\n",
    "\n",
    "The tables show all the values of all the marginals:\n",
    "\\begin{array}{lllll}\n",
    "X & Y & Z & P(X,Z) & P(Y, Z)\\\\\n",
    "0 & 0 & 0 & 1/4 & 1/4\\\\\n",
    "0 & 0 & 1 & 1/4 & 1/4 \\\\\n",
    "1 & 1 & 0 & 1/4 & 1/4 \\\\\n",
    "1 & 1 & 1 & 1/4 & 1/4\\\\\n",
    "\\end{array}\n",
    "\n",
    "\\begin{array}{llll}\n",
    "X & Y & P(X, Y)\\\\\n",
    "0 & 0 & 1/4\\\\\n",
    "0 & 1 & 1/4 \\\\\n",
    "1 & 0 & 1/4 \\\\\n",
    "1 & 1 & 1/4 \\\\\n",
    "\\end{array}"
   ]
  },
  {
   "cell_type": "markdown",
   "metadata": {},
   "source": [
    "\\begin{array}{llllll}\n",
    "X & Y & Z & P(X) & P(Y) & P(Z) \\\\\n",
    "0 & 0 & 0 & 1/2 & 1/2 & 1/2 \\\\\n",
    "1 & 1 & 1 & 1/2 & 1/2 & 1/2\n",
    "\\end{array}"
   ]
  },
  {
   "cell_type": "markdown",
   "metadata": {},
   "source": [
    "As can be seen from the tables, the random variables are pairwise independent: $P(A, B) = P(A)P(B) = 1/4$, but not mutually independent: $P(A, B, C) = \\frac{1}{4}(A\\oplus B\\oplus C) \\ne P(A)P(B)P(C) = 1/8$."
   ]
  }
 ],
 "metadata": {
  "kernelspec": {
   "display_name": "Python 3",
   "language": "python",
   "name": "python3"
  },
  "language_info": {
   "codemirror_mode": {
    "name": "ipython",
    "version": 3
   },
   "file_extension": ".py",
   "mimetype": "text/x-python",
   "name": "python",
   "nbconvert_exporter": "python",
   "pygments_lexer": "ipython3",
   "version": "3.7.7"
  }
 },
 "nbformat": 4,
 "nbformat_minor": 4
}
