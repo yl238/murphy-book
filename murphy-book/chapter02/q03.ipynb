{
 "cells": [
  {
   "cell_type": "markdown",
   "metadata": {},
   "source": [
    "## Exercise 2.3 Variance of a sum\n",
    "Show that the variance of a sum is $\\text{var}[X +Y] = \\text{var}[X]+\\text{var}[Y]+2\\text{cov}[X,Y]$, where $\\mathrm{cov}[X,Y]$\n",
    "is the covariance between $X$ and $Y$."
   ]
  },
  {
   "cell_type": "markdown",
   "metadata": {},
   "source": [
    "### Solution"
   ]
  },
  {
   "cell_type": "markdown",
   "metadata": {},
   "source": [
    "\\begin{aligned}\n",
    "\\mathrm{var}[X + Y]  & = \\mathbb{E}[(X + Y - \\mu_x - \\mu_y)^2] \\\\\n",
    "& = \\mathbb{E}[((X - \\mu_x) + (Y - \\mu_y))^2] \\\\\n",
    "& = \\mathbb{E}[(X-\\mu_x)^2 + (Y-\\mu_y)^2 + 2(X-\\mu_x)(Y-\\mu_y)] \\\\\n",
    "& = \\mathbb{E}[(X-\\mu_x)^2] + \\mathbb{E}[(Y-\\mu_y)^2] + \\mathbb{E}[2(X-\\mu_x)(Y-\\mu_y)] \\\\\n",
    "& = \\mathrm{var}[X] + \\mathrm{var}[Y] + 2\\mathrm{cov}[X, Y]\n",
    "\\end{aligned}"
   ]
  },
  {
   "cell_type": "markdown",
   "metadata": {},
   "source": [
    "### Examples\n",
    "If the random variables are uncorrelated, then\n",
    "\n",
    "$$\n",
    "\\mathrm{var}[X + Y] = \\mathrm{var}[X] + \\mathrm{var}[Y]\n",
    "$$\n",
    "\n",
    "The variance of the sum is the sum of the variances.\n",
    "\n",
    "Second, if there is a positive linear relationship between the random variables ($Y = aX + b$), then \n",
    "\n",
    "\\begin{aligned}\n",
    "\\mathrm{var}[X + Y]  & = \\mathrm{var}[X] + \\mathrm{var}[Y] + 2\\mathrm{cov}[X, Y] \\\\\n",
    "& = \\mathrm{var}[X] + \\mathrm{var}[Y] + 2\\sqrt{\\mathrm{var}[X]}\\sqrt{\\mathrm{var}[Y]}\\\\\n",
    "& = (\\sqrt{\\mathrm{var}[X]}+ \\sqrt{\\mathrm{var}[Y]})^2 \\\\\n",
    "& = (\\sigma_x + \\sigma_y)^2\n",
    "\\end{aligned}\n",
    "\n",
    "Thus we have a linear relationship between the standard deviations: $\\sigma_{x+y} = \\sigma_x + \\sigma_y$.\n",
    "\n",
    "Similarly for a negatively linear relationship between the random variables the relationship becomes\n",
    "\n",
    "$$\n",
    "\\sigma_{x+y} = |\\sigma_x-\\sigma_y|.\n",
    "$$"
   ]
  }
 ],
 "metadata": {
  "kernelspec": {
   "display_name": "Python 3",
   "language": "python",
   "name": "python3"
  },
  "language_info": {
   "codemirror_mode": {
    "name": "ipython",
    "version": 3
   },
   "file_extension": ".py",
   "mimetype": "text/x-python",
   "name": "python",
   "nbconvert_exporter": "python",
   "pygments_lexer": "ipython3",
   "version": "3.7.7"
  }
 },
 "nbformat": 4,
 "nbformat_minor": 4
}
