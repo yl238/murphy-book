{
 "cells": [
  {
   "cell_type": "code",
   "execution_count": 1,
   "metadata": {},
   "outputs": [
    {
     "data": {
      "application/javascript": [
       "MathJax.Hub.Config({\n",
       "    TeX: { equationNumbers: { autoNumber: \"AMS\" } }\n",
       "});\n"
      ],
      "text/plain": [
       "<IPython.core.display.Javascript object>"
      ]
     },
     "metadata": {},
     "output_type": "display_data"
    }
   ],
   "source": [
    "%%javascript\n",
    "MathJax.Hub.Config({\n",
    "    TeX: { equationNumbers: { autoNumber: \"AMS\" } }\n",
    "});"
   ]
  },
  {
   "cell_type": "markdown",
   "metadata": {},
   "source": [
    "## Exercise 2.17 Expected value of the minimum\n",
    "Suppose $X$, $Y$ are two points sampled independently and uniformly at random from the interval [0,1]. What is the expected location of the left most point?"
   ]
  },
  {
   "cell_type": "markdown",
   "metadata": {},
   "source": [
    "### Introduction\n",
    "\n",
    "In this question, we have two random variables $X$, $Y \\sim\\mathcal{U}(0, 1)$. We want to know the expected value of the leftmost point (i.e. the expected value of the minimum). Since $E[X] = E[Y] = \\frac{1}{2}$, it is reasonable to assume that if we repeat this experiment several times, then $\\max(X, Y)\\gt\\frac{1}{2}$, and $\\min(X, Y)\\lt\\frac{1}{2}$. Let's check if this is true."
   ]
  },
  {
   "cell_type": "markdown",
   "metadata": {},
   "source": [
    "### Solution\n",
    "Random variable:\n",
    "\n",
    "$X\\sim\\mathcal{U}(0, 1)$, $Y\\sim\\mathcal{U}(0, 1)$\n",
    "\n",
    "The minimum between the two random variables can be computed by the $\\min$ function:\n",
    "\n",
    "\\begin{equation}\n",
    "\\min(x, y) = \\frac{x + y - |x-y|}{2}\n",
    "\\end{equation}\n",
    "Now, we just have to compute the expected value of this function.\n",
    "\n",
    "\\begin{equation}\n",
    "\\mathbb{E}[\\min(x, y)] = \\iint_0^1\\min(x, y)p(x, y) dx dy\n",
    "\\end{equation}\n",
    "\n",
    "Since $X$, $Y$ are independent, we can easily decompose the joint distribution of (2):\n",
    "\n",
    "\\begin{aligned}\n",
    "\\mathbb{E}[\\min(x, y)] & = \\iint_0^1\\min(x, y)p(x)p(y) dxdy \\\\\n",
    "& = \\iint_0^1\\min(x,y)dxdy\\\\\n",
    "& = \\iint_0^1\\frac{x+y-|x-y|}{2}dxdy \\\\\n",
    "& = \\frac{1}{2}\\iint_0^1x + y - |x-y|dxdy\n",
    "\\end{aligned}"
   ]
  },
  {
   "cell_type": "markdown",
   "metadata": {},
   "source": [
    "For the final step, we have to decompose the double integral, in order to strip of the absolute value of the integrand."
   ]
  },
  {
   "cell_type": "markdown",
   "metadata": {},
   "source": [
    "\\begin{aligned}\n",
    "& \\frac{1}{2}\\int_0^1\\left(\\int_0^yx+y-(-x+y)dx + \\int_y^1x+y-(x-y)dx\\right)dy \\\\\n",
    "= & \\frac{1}{2}\\int_0^1\\left(x^2\\left\\vert_0^y + 2xy\\right\\vert_y^1\\right)dy \\\\\n",
    "= & \\frac{1}{2}\\int_0^1(y^2 + 2y - 2y^2) dy \\\\\n",
    "= & \\frac{1}{2}\\left[-\\frac{y^3}{3}\\left\\vert_0^1 + y^2\\right\\vert_0^1\\right] \\\\\n",
    "= & \\frac{1}{3}\n",
    "\\end{aligned}"
   ]
  },
  {
   "cell_type": "markdown",
   "metadata": {},
   "source": [
    "Therefore, the expectation of the leftmost variable is 1/3."
   ]
  }
 ],
 "metadata": {
  "kernelspec": {
   "display_name": "Python 3",
   "language": "python",
   "name": "python3"
  },
  "language_info": {
   "codemirror_mode": {
    "name": "ipython",
    "version": 3
   },
   "file_extension": ".py",
   "mimetype": "text/x-python",
   "name": "python",
   "nbconvert_exporter": "python",
   "pygments_lexer": "ipython3",
   "version": "3.7.7"
  }
 },
 "nbformat": 4,
 "nbformat_minor": 4
}
