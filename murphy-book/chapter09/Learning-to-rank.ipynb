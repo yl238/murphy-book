{
 "cells": [
  {
   "cell_type": "markdown",
   "metadata": {},
   "source": [
    "## Learning to rank\n",
    "We want to learn a function that can rank order a set of items. Specifically, suppose we have a query $q$ and a set of documents $d^1,\\ldots,d^m$ that might be relevant to $q$ (e.g. all documents that contain the string $q$). We would like to sort these documents in decreasing order of relevance and show the top $k$ to the user.\n",
    "\n",
    "A standard way to measure the relevance of a document $d$ to a query $q$ is to use a probabilistic language model based on a bag of words model. That is, we define $\\mathrm{sim}(q, d)\\triangleq p(q|d) = \\prod_{i=1}^n p(q_i|d)$, where $q_i$ is the $i$th word or term, and $p(q_i|d)$ is a multinoulli distribution estimated from document $d$. In practice, we need to smooth the estimated distribution, for example using a Dirichlet prior, representing the overall frequency of each word. This can be estimated from all documents in the system.\n",
    "\n",
    "$$\n",
    "p(t|d) = (1-\\lambda)\\frac{\\text{TF}(t,d)}{\\text{LEN}(d)} + \\lambda p(t|\\text{background})\n",
    "$$\n",
    "\n",
    "where $\\text{TF}(t,d)$ is the frequency of term $t$ in document $d$, $\\text{LEN}(d)$ is the number of words in $d$, and $0<\\lambda<1$ is a smoothing parameter."
   ]
  }
 ],
 "metadata": {
  "kernelspec": {
   "display_name": "Python 3",
   "language": "python",
   "name": "python3"
  },
  "language_info": {
   "codemirror_mode": {
    "name": "ipython",
    "version": 3
   },
   "file_extension": ".py",
   "mimetype": "text/x-python",
   "name": "python",
   "nbconvert_exporter": "python",
   "pygments_lexer": "ipython3",
   "version": "3.7.7"
  }
 },
 "nbformat": 4,
 "nbformat_minor": 4
}
