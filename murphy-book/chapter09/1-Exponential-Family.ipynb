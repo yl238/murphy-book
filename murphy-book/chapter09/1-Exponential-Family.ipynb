{
 "cells": [
  {
   "cell_type": "markdown",
   "metadata": {},
   "source": [
    "# Definition of an Exponential Family"
   ]
  },
  {
   "cell_type": "markdown",
   "metadata": {},
   "source": [
    "A pdf or pmf $p(\\mathbf{x}|\\boldsymbol\\theta)$, for $\\mathbf{x}=(x_1,\\ldots,x_m) \\in \\mathcal{X}^m$ and $\\boldsymbol\\theta\\in \\Theta\\subset \\mathbb{R}^d$, is said to be in the **exponential family** if it is of the form\n",
    "\n",
    "\\begin{aligned}\n",
    "p(\\mathbf{x}|\\boldsymbol\\theta) & = \\frac{1}{Z(\\boldsymbol\\theta)}h(\\mathbf{x})\\,\\mathrm{exp}[\\boldsymbol\\theta^T\\phi(\\mathbf{x})]\\\\\n",
    "& = h(\\mathbf{x})\\,\\,\\mathrm{exp}[\\boldsymbol\\theta^T\\phi(\\mathbf{x})-A(\\boldsymbol\\theta)]\n",
    "\\end{aligned}\n",
    "\n",
    "where\n",
    "\n",
    "\\begin{aligned}\n",
    "Z(\\boldsymbol\\theta) & = \\int_{\\mathcal{X}^m}h(\\mathbf{x})\\,\\mathrm{exp}[\\boldsymbol\\theta^T\\phi(\\mathbf{x})]dx\\\\\n",
    "A(\\boldsymbol\\theta) & = \\log Z(\\boldsymbol\\theta)\n",
    "\\end{aligned}"
   ]
  },
  {
   "cell_type": "markdown",
   "metadata": {},
   "source": [
    "Here \n",
    "* $\\boldsymbol\\theta$ are called the **natural parameters** or **canonical parameters**\n",
    "* $\\phi(\\mathbf{x})\\in\\mathbb{R}^d$ is called a vector of **sufficient statistics**\n",
    "* $Z(\\boldsymbol\\theta)$ is called the **partition function**\n",
    "* $A(\\boldsymbol\\theta)$ is called the **log partition function** or **cumulant function**\n",
    "* $h(\\mathbf{x})$ is the scaling constant, often 1.\n",
    "\n",
    "if $\\phi(\\mathbf{x}) = \\mathbf{x}$, we say it is a **natural exponential family**."
   ]
  },
  {
   "cell_type": "markdown",
   "metadata": {},
   "source": [
    "The above equation can be generalized by writing\n",
    "\n",
    "$$\n",
    "p(\\mathbf{x}|\\boldsymbol\\theta) = h(\\mathbf{x})\\,\\mathrm{exp}[\\eta(\\boldsymbol\\theta)^T\\phi(\\mathbf{x}) - A\\eta(\\boldsymbol\\theta))]\n",
    "$$\n",
    "\n",
    "where $\\eta$ is a function that maps the parameters $\\boldsymbol\\theta$ to the canonical parameters $\\boldsymbol\\eta = \\eta(\\boldsymbol\\theta)$. \n",
    "\n",
    "If $\\mathrm{dim}(\\boldsymbol\\theta) < \\mathrm{dim}(\\eta(\\boldsymbol\\theta))$, it is called a **curved exponential family**, which means we have more sufficient statistics than parameters. If $\\eta(\\boldsymbol\\theta) = \\boldsymbol\\theta$, the model is said to be in **canonical form**. "
   ]
  },
  {
   "cell_type": "code",
   "execution_count": null,
   "metadata": {},
   "outputs": [],
   "source": []
  }
 ],
 "metadata": {
  "kernelspec": {
   "display_name": "Python 3",
   "language": "python",
   "name": "python3"
  },
  "language_info": {
   "codemirror_mode": {
    "name": "ipython",
    "version": 3
   },
   "file_extension": ".py",
   "mimetype": "text/x-python",
   "name": "python",
   "nbconvert_exporter": "python",
   "pygments_lexer": "ipython3",
   "version": "3.7.3"
  }
 },
 "nbformat": 4,
 "nbformat_minor": 4
}
