{
 "cells": [
  {
   "cell_type": "markdown",
   "metadata": {},
   "source": [
    "## Exercise 3.5 Uninformative prior for log-odds ratio\n",
    "Let\n",
    "\n",
    "$$\n",
    "\\phi = \\mathrm{logit}(\\theta) = \\log\\frac{\\theta}{1-\\theta}\n",
    "$$\n",
    "\n",
    "Show that if $p(\\phi) \\propto 1$, then $p(\\theta) \\propto \\mathrm{Beta}(\\theta|0, 0)$. Hint: use the change of variables formula."
   ]
  },
  {
   "cell_type": "markdown",
   "metadata": {},
   "source": [
    "### Solution\n",
    "\n",
    "$$\n",
    "p_\\theta(\\theta) = |\\frac{d\\phi}{d\\theta}|p_\\theta(\\phi) \\propto |\\frac{d\\phi}{d\\theta}| = \\frac{1}{1-\\theta} = \\mathrm{Beta}(0, 0)\n",
    "$$"
   ]
  },
  {
   "cell_type": "markdown",
   "metadata": {},
   "source": [
    "Here's an interesting section from https://github.com/ArthurZC23/Machine-Learning-A-Probabilistic-Perspective-Solutions/blob/master/3/5.pdf\n",
    "where he explains why $p(\\phi)$ and $p(\\theta)$ are not probabiity functions."
   ]
  }
 ],
 "metadata": {
  "kernelspec": {
   "display_name": "Python 3",
   "language": "python",
   "name": "python3"
  },
  "language_info": {
   "codemirror_mode": {
    "name": "ipython",
    "version": 3
   },
   "file_extension": ".py",
   "mimetype": "text/x-python",
   "name": "python",
   "nbconvert_exporter": "python",
   "pygments_lexer": "ipython3",
   "version": "3.7.7"
  }
 },
 "nbformat": 4,
 "nbformat_minor": 4
}
