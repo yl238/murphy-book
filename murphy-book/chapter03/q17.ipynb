{
 "cells": [
  {
   "cell_type": "markdown",
   "metadata": {},
   "source": [
    "## Exercise 3.17 Marginal likelihood for beta-binomial under uniform prior\n",
    "Suppose we toss a coin $N$ times and observe $N_1$ heads. Let $N_1 ∼ \\mathrm{Bin}(N, θ)$ and $θ ∼ \\mathrm{Beta}(1, 1)$. Show\n",
    "that the marginal likelihood is $p(N_1|N) = 1/(N + 1)$. Hint: $\\Gamma(x + 1) = x!$ if $x$ is an integer."
   ]
  },
  {
   "cell_type": "markdown",
   "metadata": {},
   "source": [
    "\\begin{aligned}\n",
    "p(N_1|N)  & = \\int p(N_1|\\theta)p(\\theta)d\\theta \\\\\n",
    "& = \\binom{N}{N_1}\\int_0^1\\theta^{N_1}(1-\\theta)^{N-N_1}d\\theta \\\\\n",
    "& = \\binom{N}{N_1}B(N_1+1, N-N_1+1) \\\\\n",
    "& = \\frac{N!}{N_1!(N-N_1)!}\\frac{\\Gamma(N_1+1)\\Gamma(N-N_1+1)}{\\Gamma(N+2)} = 1/(N+1)\n",
    "\\end{aligned}"
   ]
  }
 ],
 "metadata": {
  "kernelspec": {
   "display_name": "Python 3",
   "language": "python",
   "name": "python3"
  },
  "language_info": {
   "codemirror_mode": {
    "name": "ipython",
    "version": 3
   },
   "file_extension": ".py",
   "mimetype": "text/x-python",
   "name": "python",
   "nbconvert_exporter": "python",
   "pygments_lexer": "ipython3",
   "version": "3.7.7"
  }
 },
 "nbformat": 4,
 "nbformat_minor": 4
}
