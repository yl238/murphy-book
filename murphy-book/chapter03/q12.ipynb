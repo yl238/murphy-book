{
 "cells": [
  {
   "cell_type": "markdown",
   "metadata": {},
   "source": [
    "## Exercise 3.12 MAP estimation for the Bernoulli with non-conjugate priors\n",
    "(Source: Jaakkola.) In the book, we discussed Bayesian inference of a Bernoulli rate parameter with the\n",
    "prior $p(θ) = \\mathrm{Beta}(θ|α, β)$. We know that, with this prior, the MAP estimate is given by\n",
    "\n",
    "$$\n",
    "\\hat{\\theta} = \\frac{N_1 + \\alpha-1}{N + \\alpha + \\beta -2}\n",
    "$$\n",
    "\n",
    "Where $N_1$ is the number of heads, $N_0$ is the number of tails and $N=N_0+N_1$ is the total number of trials.\n",
    "\n",
    "(a) Now consider the following prior, that believes the coin is fair, or is slightly biased towards tails:\n",
    "\n",
    "$$\n",
    "p(\\theta) = \\left\\{\\begin{array}{ll}0.5 & \\mathrm{if}\\,\\theta=0.5\\\\\n",
    "0.5 & \\mathrm{if}\\,\\theta=0.4\\\\\n",
    "0 & \\mathrm{otherwise}\\end{array}\\right.\n",
    "$$\n",
    "Derive the MAP estimate under this prior as a function of $N_1$ and $N$."
   ]
  },
  {
   "cell_type": "markdown",
   "metadata": {},
   "source": [
    "**Solution**\n",
    "\n",
    "The expression for the new prior is given by \n",
    "\n",
    "$$\n",
    "p(\\theta) = 0.5\\delta(\\theta-0.5) + 0.5\\delta(\\theta-0.4)\n",
    "$$\n",
    "\n",
    "The likelihood of a given dataset remains the same, despite the changes in the prior:\n",
    "\n",
    "$$\n",
    "p(D|\\theta) = \\theta^{N_1}(1-\\theta)^{N-N_1}\n",
    "$$\n",
    "\n",
    "Therefore, the posterior has the following form:\n",
    "\n",
    "\\begin{aligned}\n",
    "p(\\theta|D) \\propto p(D|\\theta)p(\\theta) & = \\theta^{N_1}(1-\\theta)^{N-N_1}(0.5\\delta(\\theta-0.5) + 0.5\\delta(\\theta-0.4)\\\\\n",
    "& = 0.5^{N+1}\\delta(\\theta-0.5) + 0.5(0.4)^{N_1}(0.6)^{N-N_1}\\delta(\\theta-0.4)\\\\\n",
    "& \\propto 0.5^N\\delta(\\theta-0.5) + (0.4)^{N_1}(0.6)^{N-N_1}\\delta(\\theta-0.4)\n",
    "\\end{aligned}"
   ]
  },
  {
   "cell_type": "markdown",
   "metadata": {},
   "source": [
    "In the above we substitue $\\theta$ for the corresponding value of the indicator function $\\mathbb{I}$. Note that the posterior only gives us two non-zero choices, $\\theta=0.5$ or $\\theta=0.4$. So the MAP estimate will be the $\\theta$ which gives us the biggest probability. Now we need to calculate under which conditions we should choose one or the other. Let's start assuming $\\theta_{\\mathrm{MAP}} = 0.5$:\n",
    "\n",
    "\\begin{aligned}\n",
    "0.5^N & > 0.4^{N_1}0.6^{N-N_1} \\\\\n",
    "N\\log(0.5) & > N_1\\log 0.4 + (N-N_1)\\log0.6\\\\\n",
    "N\\log\\left(\\frac{5}{6}\\right) & > N_1\\log\\left(\\frac{2}{3}\\right)\\\\\n",
    "N_1 & > \\frac{\\log1.2}{\\log1.5}N \\approx 0.45 N\n",
    "\\end{aligned}\n",
    "\n",
    "Since all the inequalities above are reversible we can state:\n",
    "\n",
    "$N_1 > 0.45 N \\implies \\theta_{\\mathrm{MAP}} \\iff 0.5$. A direct consequence of this statement is: $N_1\\le 0.45N \\iff \\theta_{\\mathrm{MAP}} = 0.4$."
   ]
  },
  {
   "cell_type": "markdown",
   "metadata": {},
   "source": [
    "(b) Suppose the true parameter is θ = 0.41. Which prior leads to a better estimate when $N$ is small?\n",
    "Which prior leads to a better estimate when $N$ is large?\n",
    "\n",
    "**Solution**\n",
    "\n",
    "When $N$ is small, the two-point prior would probably give better estimation, because the MAP estimate based on conjugate Beta prior would heavily rely on prior parameter values. \n",
    "\n",
    "When $N$ is large, the Beta prior would probably give better estimation, since by the law of large numbers, the MAP estimate would converge to the true parameter within extremely narrow error. In the new prior, no matter how large the sample size is, our best guess will always be $\\theta_{\\mathrm{MAP}} = 0.4$, since we only have two options to choose from."
   ]
  }
 ],
 "metadata": {
  "kernelspec": {
   "display_name": "Python 3",
   "language": "python",
   "name": "python3"
  },
  "language_info": {
   "codemirror_mode": {
    "name": "ipython",
    "version": 3
   },
   "file_extension": ".py",
   "mimetype": "text/x-python",
   "name": "python",
   "nbconvert_exporter": "python",
   "pygments_lexer": "ipython3",
   "version": "3.7.7"
  }
 },
 "nbformat": 4,
 "nbformat_minor": 4
}
