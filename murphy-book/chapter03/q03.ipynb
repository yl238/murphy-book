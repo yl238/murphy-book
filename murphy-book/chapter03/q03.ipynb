{
 "cells": [
  {
   "cell_type": "markdown",
   "metadata": {},
   "source": [
    "## Exercise 3.3 Posterior predictive for Beta-Binomial model\n",
    "Recall from Equation 3.32 that the posterior predictive for the Beta-Binomial is given by\n",
    "\n",
    "\\begin{aligned}\n",
    "p(x|n, D) & = Bb(x|\\alpha_0′,\\alpha_1′, n) \\\\\n",
    "& = \\frac{B(x+\\alpha_1′,n−x+\\alpha_0′)}{B(\\alpha_1′,\\alpha_0′)}\\left(\\begin{array}{l}n\\\\x\\end{array}\\right)\n",
    "\\end{aligned}\n",
    "\n",
    "Prove that this reduces to\n",
    "\n",
    "$$\n",
    "p(\\tilde{x} = 1|D) = \\frac{\\alpha_1'}{\\alpha_0′ + \\alpha_1′}\n",
    "$$\n",
    "when $n = 1$ (and hence $x\\in\\{0, 1\\}$). i.e. show that\n",
    "  \n",
    "$$\n",
    "Bb(1|\\alpha_1', \\alpha_0', 1) = \\frac{\\alpha_1'}{\\alpha_1'+\\alpha_0'}\n",
    "$$"
   ]
  },
  {
   "cell_type": "markdown",
   "metadata": {},
   "source": [
    "Recall that the Beta function is defined by\n",
    "\n",
    "$$\n",
    "B(a, b)\\triangleq\\frac{\\Gamma(a)\\Gamma(b)}{\\Gamma(a+b)}\n",
    "$$"
   ]
  },
  {
   "cell_type": "markdown",
   "metadata": {},
   "source": [
    "### Solution\n",
    "When $n=1$, we have\n",
    "\n",
    "\\begin{aligned}\n",
    "p(\\tilde{x} = 1|D ) & = \\frac{B(1+\\alpha_1', \\alpha_0')}{B(\\alpha_1', \\alpha_0')}\\\\\n",
    "& = \\frac{\\Gamma(1+\\alpha_1')\\Gamma(\\alpha_0')}{\\Gamma(1+\\alpha_1'+\\alpha_0')}\\frac{\\Gamma(\\alpha_1'+\\alpha_0')}{\\Gamma(\\alpha_1')\\Gamma(\\alpha_0')} \\\\\n",
    "& = \\frac{\\Gamma(1+\\alpha_1')\\Gamma(\\alpha_1'+\\alpha_0')}{\\Gamma(\\alpha_1')\\Gamma(1+\\alpha_1'+\\alpha_0')}\\\\\n",
    "& = \\frac{\\alpha_1'}{\\alpha_1'+\\alpha_0'}\n",
    "\\end{aligned}\n",
    "\n",
    "Using the condition that $\\Gamma(\\alpha+1) = \\alpha\\Gamma(a)$"
   ]
  },
  {
   "cell_type": "markdown",
   "metadata": {},
   "source": [
    "So $p(1|1, D) = \\frac{\\alpha_1'}{\\alpha_1'+\\alpha_0'}$. The result says that if I have a distribution that gives the probability of getting $x$ heads in $n$ trials and I make $n=1$, then this will be the same as the probability of getting head in the next result - the two events are the same!"
   ]
  }
 ],
 "metadata": {
  "kernelspec": {
   "display_name": "Python 3",
   "language": "python",
   "name": "python3"
  },
  "language_info": {
   "codemirror_mode": {
    "name": "ipython",
    "version": 3
   },
   "file_extension": ".py",
   "mimetype": "text/x-python",
   "name": "python",
   "nbconvert_exporter": "python",
   "pygments_lexer": "ipython3",
   "version": "3.7.7"
  }
 },
 "nbformat": 4,
 "nbformat_minor": 4
}
