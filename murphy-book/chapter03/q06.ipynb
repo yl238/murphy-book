{
 "cells": [
  {
   "cell_type": "markdown",
   "metadata": {},
   "source": [
    "## Exercise 3.6 MLE for the Poisson distribution\n",
    "The Poisson pmf is defined as $\\mathrm{Poi}(x|\\lambda) = e^{−\\lambda}\\frac{\\lambda^x}{x!}$ , for $x \\in\\{0,1,2,...\\}$ where $\\lambda > 0$ is the rate parameter. Derive the MLE."
   ]
  },
  {
   "cell_type": "markdown",
   "metadata": {},
   "source": [
    "### Solution\n",
    "For observed samples $x_1,\\ldots, x_n$, the likelihood is\n",
    "\n",
    "$$\n",
    "\\prod_i\\mathrm{Poi}(x_i|\\lambda) = e^{-\\lambda n}\\frac{\\lambda^{\\sum_ix_i}}{\\prod_ix_i!}.\n",
    "$$"
   ]
  },
  {
   "cell_type": "markdown",
   "metadata": {},
   "source": [
    "The log-likelihood is $l = -\\lambda n + \\sum_i x_i\\log\\lambda - \\sum_i\\log(x_i!)$.\n",
    "\n",
    "To find the MLE, take the derivative of $l$ to give\n",
    "\n",
    "$$\n",
    "\\frac{dl}{d\\lambda} = 0 \\implies \\lambda = \\frac{\\sum_i x_i}{N}\n",
    "$$"
   ]
  },
  {
   "cell_type": "markdown",
   "metadata": {},
   "source": [
    "What this says is that the MLE is the sample average of our dataset, which makes sense since the expected value of the Poisson distribution is equal to $\\lambda$. Remember by the law of large numbers, the sample average converges almost surely to the expected value, which means that if we have a lot of points in our dataset, our MLE is a good estimator for the parameter of the distribution.\n",
    "\n",
    "Regards the details of the optimisation, since $\\lambda>0$ by definition and the log-likelihood is a function of $\\lambda$ that starts out increasing (while $\\log(\\lambda)$ is more relevant than $-N\\lambda$). then decreases indefinitely (when $-N\\lambda$ becomes more relevant than $\\log(\\lambda)$), we have certainty that the MLE gives us a global maximum."
   ]
  }
 ],
 "metadata": {
  "kernelspec": {
   "display_name": "Python 3",
   "language": "python",
   "name": "python3"
  },
  "language_info": {
   "codemirror_mode": {
    "name": "ipython",
    "version": 3
   },
   "file_extension": ".py",
   "mimetype": "text/x-python",
   "name": "python",
   "nbconvert_exporter": "python",
   "pygments_lexer": "ipython3",
   "version": "3.7.7"
  }
 },
 "nbformat": 4,
 "nbformat_minor": 4
}
