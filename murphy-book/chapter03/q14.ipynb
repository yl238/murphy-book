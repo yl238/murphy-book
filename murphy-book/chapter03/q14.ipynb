{
 "cells": [
  {
   "cell_type": "markdown",
   "metadata": {},
   "source": [
    "## Exercise 3.14 Posterior predictive for Dirichlet-multinomial\n",
    "- a. Suppose we compute the empirical distribution over letters of the Roman alphabet plus the space character (a distribution over 27 values) from 2000 samples. Suppose we see the letter “e” 260 times. What is $p(x_{2001} = e|D)$, if we assume $θ ∼ \\mathrm{Dir}(α_1,...,α_{27})$, where $α_k = 10$ for all $k$?"
   ]
  },
  {
   "cell_type": "markdown",
   "metadata": {},
   "source": [
    "$$\n",
    "p(x_{2001}=e|D) = \\frac{\\alpha_e + N_e}{\\alpha + N} = \\frac{10 + 260}{270 + 2000} \\approx 11.9\\%\n",
    "$$"
   ]
  },
  {
   "cell_type": "markdown",
   "metadata": {},
   "source": [
    "- b. Suppose, in the 2000 samples, we saw “e” 260 times, “a” 100 times, and “p” 87 times. What is $p(x_{2001} = p, x_{2002} = a|D)$, if we assume $θ ∼ \\mathrm{Dir}(α_1,...,α_{27})$, where $α_k = 10$ for all $k$? Show your work."
   ]
  },
  {
   "cell_type": "markdown",
   "metadata": {},
   "source": [
    "$$\n",
    "p(x_{2001}=p, x_{2002}=a|D) = p(x_{2001}=p|D)p(x_{2002}=a|D) = \\frac{110}{2270}\\cdot\\frac{97}{2270}\\approx 0.207\\%\n",
    "$$"
   ]
  }
 ],
 "metadata": {
  "kernelspec": {
   "display_name": "Python 3",
   "language": "python",
   "name": "python3"
  },
  "language_info": {
   "codemirror_mode": {
    "name": "ipython",
    "version": 3
   },
   "file_extension": ".py",
   "mimetype": "text/x-python",
   "name": "python",
   "nbconvert_exporter": "python",
   "pygments_lexer": "ipython3",
   "version": "3.7.7"
  }
 },
 "nbformat": 4,
 "nbformat_minor": 4
}
