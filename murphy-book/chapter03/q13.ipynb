{
 "cells": [
  {
   "cell_type": "markdown",
   "metadata": {},
   "source": [
    "## Exercise 3.13 Posterior predictive distribution for a batch of data with the dirichlet-multinomial model\n",
    "In Equation 3.51, we gave the the posterior predictive distribution for a single multinomial trial using a dirichlet prior. Now consider predicting a batch of new data, $D = (X_1,\\dots,X_m)$, consisting of $m$ single multinomial trials (think of predicting the next m words in a sentence, assuming they are drawn iid). Derive an expression for $p(\\tilde{D}|D, α)$.\n",
    "\n",
    "Your answer should be a function of $\\alpha$, and the old and new counts (sufficient statistics), defined as \n",
    "\n",
    "\\begin{aligned}\n",
    "N^{\\mathrm{old}}_k & = \\sum_{i\\in D}I(x_i=k)\\\\\n",
    "N^{\\mathrm{new}}_k & = \\sum_{i\\in\\tilde{D}}I(x_i = k)\n",
    "\\end{aligned}\n",
    "\n",
    "Hint: recall that, for a vector of counts, $N_{1:K}$, the marginal likelihood (evidence) is given by\n",
    "\n",
    "$$\n",
    "p(D|\\alpha) = \\frac{\\Gamma(\\alpha)}{\\Gamma(N+\\alpha)}\\prod_k\\frac{\\Gamma(N_k+a_k)}{\\Gamma(\\alpha_k)}\n",
    "$$\n",
    "where $\\alpha = \\sum_k\\alpha_k$ and $N =\\sum_kN_k$."
   ]
  },
  {
   "cell_type": "markdown",
   "metadata": {},
   "source": [
    "### Solution\n",
    "In this question, we will calculate the posterior predictive for a batch of data, using the Dirichlet-multinomial model. This is a straightforward math question, that will follow the same pattern as the previous posterior predictives as we saw before. Nevertheless, there is easier and hard ways to arrive at the results. We will see two easy ways to arrive at the final expression.\n",
    "\n",
    "\\begin{aligned}\n",
    "N & = N^{\\mathrm{old}} + N^{\\mathrm{new}} \\\\\n",
    "N_j & = N_j^{\\mathrm{old}} + N_j^{\\mathrm{new}}\n",
    "\\end{aligned}"
   ]
  },
  {
   "cell_type": "markdown",
   "metadata": {},
   "source": [
    "Let's start by writing down the posterior predictive for one single trial:\n",
    "\n",
    "$$\n",
    "p(X=j|D,\\alpha) = \\frac{a_j+N}{a+N}\n",
    "$$\n",
    "\n",
    "Now, we need to express the batch of data as a series of single trials:\n",
    "\n",
    "$$\n",
    "p(\\tilde{D}|D, \\alpha) = p(\\tilde{x_1}|D)p(\\tilde{x_2}|\\{D, \\tilde{x_1}\\})p(\\tilde{x_3}|\\{D, \\tilde{x_1}, \\tilde{x_2}\\})\\ldots\n",
    "$$\n",
    "\n",
    "Now we just have to substitute (1) in (2), updating the number of empirical counts of the total amount and of the specific trial for each instance:\n",
    "\n",
    "\\begin{aligned}\n",
    "p(\\tilde{D}|D, \\alpha) & = \\frac{1}{\\prod_{i=0}^{N-1}(\\alpha+N^{\\mathrm{old}}+i)}\\prod_{j=1}^K\\prod_{i=0}^{N_j^{new}-1}(\\alpha_j + N_j^{old}+i) \\\\\n",
    "& = \\frac{\\Gamma(\\alpha + N^{old})}{\\Gamma(\\alpha+N)}\\prod_{j=1}^K\\frac{\\Gamma(\\alpha_j + N_j)}{\\Gamma(\\alpha_j + N_j^{old})}\n",
    "\\end{aligned}"
   ]
  },
  {
   "cell_type": "markdown",
   "metadata": {},
   "source": [
    "### Second solution\n",
    "The posterior distribution, given by the original dataset $D$, is given by\n",
    "\n",
    "$$\n",
    "p(\\theta|D, \\alpha) = \\mathrm{Dir}(\\theta|\\alpha + N^{old})\n",
    "$$\n",
    "\n",
    "which has the same form as the prior. So, we may think of the posterior as a prior with updated hyperparameters ($\\alpha_j^{new} = N_j^{old} + \\alpha_j$).\n",
    "\n",
    "Now, we can use the marginal likelihood expression given by the author, using the new dataset $\\tilde{D}$ as input and the new hyperparameters as the parameter:\n",
    "\n",
    "\\begin{aligned}\n",
    "p(\\tilde{D}|\\alpha^{new}) & = \\frac{\\Gamma(\\alpha^{new})}{\\Gamma(N^{new}+\\alpha^{new})}\\prod_j\\frac{\\Gamma(N_j^{new} + \\alpha_j^{new})}{\\Gamma(\\alpha_j^{new})}\\\\\n",
    "& = \\frac{\\Gamma(N^{old}+\\alpha)}{\\Gamma(N^{new} + N^{old} + \\alpha)}\\prod_j\\frac{\\Gamma(N_j^{new} + N_j^{old} + \\alpha_j)}{\\Gamma(N_j^{old}+\\alpha_j)}\\\\\n",
    "& = \\frac{\\Gamma(\\alpha + N^{old})}{\\Gamma(\\alpha + N)}\\prod_{j=1}^K\\frac{\\Gamma(\\alpha_j + N_j)}{\\Gamma(\\alpha_j + N_j^{old})}\n",
    "\\end{aligned}"
   ]
  },
  {
   "cell_type": "markdown",
   "metadata": {},
   "source": [
    "In this question we derived the expression for the posterior predictive of a batch of data using the Dirichlet multinomial model. The second one used updated hyperparameters together with the expression for the marginal likelihood."
   ]
  }
 ],
 "metadata": {
  "kernelspec": {
   "display_name": "Python 3",
   "language": "python",
   "name": "python3"
  },
  "language_info": {
   "codemirror_mode": {
    "name": "ipython",
    "version": 3
   },
   "file_extension": ".py",
   "mimetype": "text/x-python",
   "name": "python",
   "nbconvert_exporter": "python",
   "pygments_lexer": "ipython3",
   "version": "3.7.7"
  }
 },
 "nbformat": 4,
 "nbformat_minor": 4
}
