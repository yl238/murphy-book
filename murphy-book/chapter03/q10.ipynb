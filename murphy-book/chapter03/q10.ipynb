{
 "cells": [
  {
   "cell_type": "markdown",
   "metadata": {},
   "source": [
    "## Exercise 3.10 Taxicab (tramcar) problem\n",
    "Suppose you arrive in a new city and see a taxi numbered 100. How many taxis are there in this city? Let us assume taxis are numbered sequentially as integers starting from 0, up to some unknown upper bound $\\theta$. (We number taxis from 0 for simplicity; we can also count from 1 without changing the analysis.) Hence the likelihood function is $p(x) = U(0,\\theta)$, the uniform distribution. The goal is to estimate $\\theta$. We will use the Bayesian analysis from Exercise 3.9."
   ]
  },
  {
   "cell_type": "markdown",
   "metadata": {},
   "source": [
    "a) Suppose we see one taxi numbered 100, so $D = \\{100\\}, m = 100, N = 1$. Using an (improper) non-informative prior on θ of the form $p(\\theta) = Pa(\\theta|0, \\theta) \\propto 1/\\theta$, what is the posterior $p(\\theta|D)$?\n",
    "\n",
    "**Solution**: Using that of 3.9, the posterior $p(\\theta|D) = Pa(\\theta|1, 100)$."
   ]
  },
  {
   "cell_type": "markdown",
   "metadata": {},
   "source": [
    "b) Compute the posterior mean, mode and median number of taxis in the city, if such quantities exist.\n",
    "\n",
    "**Solution**:\n",
    "The Pareto distribution $Pa(\\theta|1, 100)$ does not have a mean defined (since $\\mathbb{E}(\\theta|a, b) = \\frac{ab}{a-1}$). The mode of the distribution is at 100. \n",
    "\n",
    "The median of the distribution is given by\n",
    "\n",
    "$$\n",
    "\\int_{\\mathrm{median}}^\\infty 100\\theta^{-2} = 0.5\n",
    "$$\n",
    "which gives median = 200."
   ]
  },
  {
   "cell_type": "markdown",
   "metadata": {},
   "source": [
    "(c) Rather than trying to compute a point estimate of the number of taxis, we can compute the predictive density over the next taxicab number using\n",
    "\n",
    "$$\n",
    "p(D'|D, \\alpha) = \\int p(D'|\\theta)p(\\theta|D, \\alpha)d\\theta = p(D'|\\beta) \n",
    "$$\n",
    "\n",
    "where $\\alpha = (b, K)$ are the hyper-parameters, $\\beta = (c, N + K )$ are the updated hyper-parameters. Now\n",
    "consider the case $D = \\{m\\}$, and $D' = \\{x\\}$. Using Equation 3.95, write down an expression for $p(x|D, \\alpha)$.\n",
    "As above, use a non-informative prior $b = K = 0$.\n",
    "\n",
    "**Solution**:\n",
    "\n",
    "Let's compute the predictive density over the next taxi number: First, we need to compute the posterior $p(\\theta|D)$:\n",
    "\n",
    "$$\n",
    "p(\\theta|D) = \\mathrm{Pareto}(\\theta|N + K, \\max(m, b)) = \\mathrm{Pareto}(\\theta|1 + 0, \\max(m, 0) = \\mathrm{Pareto}(\\theta|1, m)\n",
    "$$\n",
    "\n",
    "Since the posterior is a Pareto distribution like the prior, we can use it as a 'prior' for inference on $D'$ and use the expression of $p(D)$ (evidence) and the joint distribution $p(D, \\theta)$. So our new 'prior' has the following distribution $p(\\theta|D) = \\mathrm{Pareto}(\\theta, K'=1, b'=m)$. The number o samples is $N'=1$ and $m'=\\max(D') = x$. Now we can calculate the predictive distribution:\n",
    "\n",
    "\\begin{aligned}\n",
    "p(x|D, \\alpha)  & = \\frac{K'}{(N'+K')b'^{N'}}\\mathbb{I}(x\\le m) + \\frac{K'b'^{K'}}{(N'+K')m'^{N'+K'}}\\mathbb{I}(x > m) \\\\\n",
    "& = \\frac{1}{2m}\\mathbb{I}(x\\le m) + \\frac{m}{2x^2}\\mathbb{I}(x > m)\n",
    "\\end{aligned}"
   ]
  },
  {
   "cell_type": "markdown",
   "metadata": {},
   "source": [
    "(d) Use the predictive density formula to compute the probability that the next taxi you will see (say, the next day) has number 100, 50 or 150, i.e., compute $p(x = 100|D,\\alpha)$, $p(x = 50|D,\\alpha)$, $p(x = 150|D, \\alpha)$.\n",
    "\n",
    "**Solution**:\n",
    "\n",
    "If we suppose $m = 100$, $p(100|D, \\alpha) = 0.005$, $p(50|D, \\alpha) = 0.01$, $p(150 |D, \\alpha) = 0.002$"
   ]
  }
 ],
 "metadata": {
  "kernelspec": {
   "display_name": "Python 3",
   "language": "python",
   "name": "python3"
  },
  "language_info": {
   "codemirror_mode": {
    "name": "ipython",
    "version": 3
   },
   "file_extension": ".py",
   "mimetype": "text/x-python",
   "name": "python",
   "nbconvert_exporter": "python",
   "pygments_lexer": "ipython3",
   "version": "3.7.7"
  }
 },
 "nbformat": 4,
 "nbformat_minor": 4
}
