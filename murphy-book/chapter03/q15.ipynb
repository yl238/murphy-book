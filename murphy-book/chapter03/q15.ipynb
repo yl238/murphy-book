{
 "cells": [
  {
   "cell_type": "markdown",
   "metadata": {},
   "source": [
    "## Exercise 3.15 Setting the beta hyper-parameters\n",
    "Suppose $θ ∼ β(α_1,α_2)$ and we believe that $\\mathbb{E}[θ] = m$ and $\\text{var}[θ] = v$. Using Equation 2.62, solve for\n",
    "$α_1$ and $α_2$ in terms of $m$ and $v$. What values do you get if $m=0.7$ and $v=0.22$?"
   ]
  },
  {
   "cell_type": "markdown",
   "metadata": {},
   "source": [
    "$$\n",
    "m = \\frac{\\alpha_1}{\\alpha_1+\\alpha_2}\n",
    "$$\n",
    "\n",
    "$$\n",
    "v = \\frac{\\alpha_1\\alpha_2}{(\\alpha_1+\\alpha_2)^2(\\alpha_1+\\alpha_2+1)}\n",
    "$$"
   ]
  },
  {
   "cell_type": "markdown",
   "metadata": {},
   "source": [
    "Substituting: \n",
    "\n",
    "$$\n",
    "\\alpha_2 = \\frac{\\alpha_1(1-m)}{m}\n",
    "$$\n",
    "\n",
    "gives\n",
    "\n",
    "$$\n",
    "\\alpha_1 = \\frac{(1-m)m^2}{v} - m\n",
    "$$\n",
    "\n",
    "$$\n",
    "\\alpha_2 = \\frac{m(1-m)^2}{v}-(1-m)\n",
    "$$\n",
    "\n",
    "If $m=0.7$ and $v=0.22$, $\\alpha_1 = 119/40$ and $\\alpha_2 = 51/40$."
   ]
  }
 ],
 "metadata": {
  "kernelspec": {
   "display_name": "Python 3",
   "language": "python",
   "name": "python3"
  },
  "language_info": {
   "codemirror_mode": {
    "name": "ipython",
    "version": 3
   },
   "file_extension": ".py",
   "mimetype": "text/x-python",
   "name": "python",
   "nbconvert_exporter": "python",
   "pygments_lexer": "ipython3",
   "version": "3.7.7"
  }
 },
 "nbformat": 4,
 "nbformat_minor": 4
}
