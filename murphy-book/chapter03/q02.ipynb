{
 "cells": [
  {
   "cell_type": "markdown",
   "metadata": {},
   "source": [
    "## Exercise 3.2 Marginal likelihood for the Beta-Bernoulli model\n",
    "In Equation 5.23, we showed that the marginal likelihood is the ratio of the normalizing constants:\n",
    "\n",
    "$$\n",
    "p(D) = \\frac{\\Gamma(\\alpha_1 + N_1, \\alpha_0 + N_0)}{\\Gamma(\\alpha_1)} = \\frac{\\Gamma(\\alpha_1 + N_1)\\Gamma(\\alpha_0 + N_0)}{\\Gamma(\\alpha_1 + \\alpha_0 + N)}\\frac{\\Gamma(\\alpha_1 + \\alpha_0)}{\\Gamma(\\alpha_1)\\Gamma(\\alpha_0)}\n",
    "$$\n",
    "\n",
    "Show how this is equivalent to \n",
    "\n",
    "$$\n",
    "p(D) = \\frac{[(\\alpha_1)\\cdots(\\alpha_1 + N_1 − 1)][(\\alpha_0)\\cdots(\\alpha_0 + N_0 − 1)]}{(\\alpha)···(\\alpha + N − 1)}\n",
    "$$"
   ]
  },
  {
   "cell_type": "markdown",
   "metadata": {},
   "source": [
    "### Solution\n",
    "This is a straightforward substitution given that $(a-1)! = \\Gamma(a)$:\n",
    "\n",
    "\\begin{aligned}\n",
    "p(D) & = \\frac{\\Gamma(\\alpha_1+N_1)}{\\Gamma(\\alpha_1)}\\frac{\\Gamma(\\alpha_0+N_0)}{\\Gamma(\\alpha_0)}\\frac{\\Gamma(\\alpha)}{\\Gamma(\\alpha+N)}\\\\\n",
    "& = \\frac{\\Gamma(\\alpha_1+N_1)}{\\Gamma(\\alpha_1)}\\frac{\\Gamma(\\alpha_0+N_0)}{\\Gamma(\\alpha_0)}\\frac{\\Gamma(\\alpha_0+\\alpha_1)}{\\Gamma(\\alpha_0+\\alpha_1+N)}\n",
    "\\end{aligned}"
   ]
  },
  {
   "cell_type": "markdown",
   "metadata": {},
   "source": [
    "Two things to note:\n",
    "\n",
    "- The marginal distribution $p(D)$ is the normalization constant that we usually ignore during inference (we usually work only with the prior and the likelihood when calculating the posterior). we can ignore $p(D)$ because it's a **number** instead of a function of $\\theta$.\n",
    "- The marginal distribution is a function of both the dataset ($N_0$ and $N_1$) and the hyperparameters $\\alpha_0$ and $\\alpha_1$. This reinforces the Bayesian creed: the probability of an event is a combination of our prior beliefs and the actual results."
   ]
  }
 ],
 "metadata": {
  "kernelspec": {
   "display_name": "Python 3",
   "language": "python",
   "name": "python3"
  },
  "language_info": {
   "codemirror_mode": {
    "name": "ipython",
    "version": 3
   },
   "file_extension": ".py",
   "mimetype": "text/x-python",
   "name": "python",
   "nbconvert_exporter": "python",
   "pygments_lexer": "ipython3",
   "version": "3.7.7"
  }
 },
 "nbformat": 4,
 "nbformat_minor": 4
}
