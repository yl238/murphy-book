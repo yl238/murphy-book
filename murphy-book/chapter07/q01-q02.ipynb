{
 "cells": [
  {
   "cell_type": "markdown",
   "metadata": {},
   "source": [
    "## Exercise 7.1 Behavior of training set error with increasing sample size\n",
    "The error on the test will always decrease as we get more training data, since the model will be better estimated. However, as shown in Figure 7.10, for sufficiently complex models, the error on the training set can increase we we get more training data, until we reach some plateau. Explain why."
   ]
  },
  {
   "cell_type": "markdown",
   "metadata": {},
   "source": [
    "### Solution\n",
    "When the model is sufficiently complex and there is little training data, the model is 'memorizing' the training data, so the training error is very small. As the amount of training data increases, the model is now starting to learn from the data, therefore the error starts to increase. Eventually the error is limited by the quality of the model."
   ]
  },
  {
   "cell_type": "markdown",
   "metadata": {},
   "source": [
    "## Exercise 7.2 Multi-output linear regression\n",
    "(Source: Jaakkola.)\n",
    "When we have multiple independent outputs in linear regression, the model becomes\n",
    "\n",
    "$$\n",
    "p(\\mathbf{y}|\\mathbf{x}, \\mathbf{W}) = \\prod_{j=1}^M\\mathcal{N}(y_j|\\mathbf{w}_j^T\\mathbf{x}_i,\\sigma^2_j)\n",
    "$$\n",
    "\n",
    "Since the likelihood factorizes across dimensions, so does the MLE. Thus\n",
    "\n",
    "$$\n",
    "\\hat{\\mathbf{W}} = [\\mathbf{\\hat{w}}_1,\\ldots,\\mathbf{\\hat{w}}_M]\n",
    "$$\n",
    "\n",
    "where $\\mathbf{\\hat{w}}_j = (\\mathbf{X}^T\\mathbf{X})^{-1}\\mathbf{Y}_{:,j}$.\n",
    "\n",
    "In this exercise we apply this result to a model with 2 dimensional response vector $\\mathbf{y}_i\\in\\mathbb{R}^2$. Suppose we have some binary input data, $x_i\\in\\{0, 1\\}$. The training data is as follows:\n",
    "\n",
    "|$x$|$y$ ||\n",
    "|:---|:---|:---|\n",
    "| 0 | $(-1,-1)^T$||\n",
    "| 0 | $(-1,-2)^T$||\n",
    "| 0 | $(-2,-1)^T$||\n",
    "| 1 | $(1,1)^T$||\n",
    "| 1 | $(1,2)^T$||\n",
    "| 1 | $(2,1)^T$||\n",
    "\n",
    "Let us embed each $x_i$ into 2d using the following basis function:\n",
    "\n",
    "$$\n",
    "\\phi(0) = (1, 0)^T, \\phi(1) = (0, 1)^T\n",
    "$$\n",
    "\n",
    "The model becomes\n",
    "\n",
    "$$\n",
    "\\hat{\\mathbf{y}} = \\mathbf{W}^T\\phi(x)\n",
    "$$\n",
    "\n",
    "where $\\mathbf{W}$ is $2\\times 2$ matrix. Compute the MLE for $\\mathbf{W}$ from the above data."
   ]
  },
  {
   "cell_type": "markdown",
   "metadata": {},
   "source": [
    "### Solution\n",
    "\n",
    "$$\n",
    "\\binom{\\hat{\\mathbf{y}}_1}{\\hat{\\mathbf{y}}_2} = \\binom{\\hat{\\mathbf{w}}_1}{\\hat{\\mathbf{w}}_2} \\binom{\\phi_1(x)}{\\phi_2(x)}\n",
    "$$\n",
    "\n",
    "$$\n",
    "\\mathbf{X}_1 = \\mathbf{X}_2 = \\mathbf{X} = \\left(\\begin{array}{ll}1 & 0 \\\\ 1 & 0 \\\\ 1 & 0\\\\ 0 & 1\\\\ 0&1\\\\ 0&1\\end{array}\\right),\\mathbf{y}_1 = \\left(\\begin{array}{l}-1 \\\\ -1\\\\-2\\\\1\\\\1\\\\2\\end{array}\\right), \\mathbf{y}_2 = \\left(\\begin{array}{l}-1\\\\-2\\\\-1\\\\1\\\\2\\\\1\\end{array}\\right).\n",
    "$$\n",
    "\n",
    "$$\n",
    "(\\mathbf{X}^T\\mathbf{X})^{-1}\\mathbf{X}^T = \\left(\\begin{array}{llllll}\\frac{1}{3} & \\frac{1}{3} & \\frac{1}{3} & 0 & 0 & 0\\\\ 0 & 0 & 0 & \\frac{1}{3} & \\frac{1}{3} & \\frac{1}{3}\\end{array}\\right)\n",
    "$$\n",
    "\n",
    "$$\n",
    "\\implies\\hat{\\mathbf{w}}_1 = \\binom{-\\frac{4}{3}}{\\frac{4}{3}}, \\hat{\\mathbf{w}}_2 = \\binom{-\\frac{4}{3}}{\\frac{4}{3}}\n",
    "$$\n",
    "\n",
    "$$\n",
    "\\implies\\hat{\\mathbf{W}} = \\left(\\begin{array}{rr}-\\frac{4}{3} & -\\frac{4}{3} \\\\ \\frac{4}{3} & \\frac{4}{3}\\end{array}\\right).\n",
    "$$"
   ]
  }
 ],
 "metadata": {
  "kernelspec": {
   "display_name": "Python 3",
   "language": "python",
   "name": "python3"
  },
  "language_info": {
   "codemirror_mode": {
    "name": "ipython",
    "version": 3
   },
   "file_extension": ".py",
   "mimetype": "text/x-python",
   "name": "python",
   "nbconvert_exporter": "python",
   "pygments_lexer": "ipython3",
   "version": "3.7.7"
  }
 },
 "nbformat": 4,
 "nbformat_minor": 4
}
