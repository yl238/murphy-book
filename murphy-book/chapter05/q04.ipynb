{
 "cells": [
  {
   "cell_type": "markdown",
   "metadata": {},
   "source": [
    "## Exercise 5.4 More reject options\n",
    "In many applications, the classifier is allowed to “reject” a test example rather than classifying it into one of the classes. Consider, for example, a case in which the cost of a misclassification is $\\$10$ but the cost of having a human manually make the decison is only $\\$3$. We can formulate this as the following loss matrix:\n",
    "\n",
    "a. Suppose $P(y = 1|\\mathbf{x})$ is predicted to be 0.2. Which decision minimizes the expected loss?\n",
    "\n",
    "b. Now suppose $P(y = 1|\\mathbf{x})=0.4$. Now which decision minimizes the expected loss?\n",
    "\n",
    "c. Show that in general, for this loss matrix, but for any posterior distribution, there will be two thresholds $θ_0$ and $θ_1$ such that the optimal decision is to predict 0 if $p_1 < θ_0$, reject if $θ_0 \\le p_1 \\le θ_1$, and predict 1 if $p_1 > θ_1$ (where $p_1 = p(y = 1|\\mathbf{x})$). What are these thresholds?"
   ]
  },
  {
   "cell_type": "markdown",
   "metadata": {},
   "source": [
    "### Solutions:\n",
    "a. Expected loss: \n",
    "\n",
    "$$\n",
    "\\rho(a|\\mathbf{x}) = 0.8 L(0, a) + 0.2 L(1, a)\n",
    "$$\n",
    "If we choose action $ a = 0$, $\\rho(a|\\mathbf{x}) = 0.2\\times 10 = 2$. If we choose $a = 1$, $\\rho(a|\\mathbf{x}) = 0.8\\times 10 = 8$.\n",
    "If we choose action $a = \\text{rejection}$, $\\rho(a|\\mathbf{x}) = 3$.\n",
    "\n",
    "So the best decision is to choose class 0."
   ]
  },
  {
   "cell_type": "markdown",
   "metadata": {},
   "source": [
    "b. $p(y=1|\\mathbf{x}) = 0.4$. Now the expected loss is\n",
    "\n",
    "$$\n",
    "\\rho(a|\\mathbf{x}) = 0.6 L(0, a) + 0.4L(1, a)\n",
    "$$\n",
    "\n",
    "If we choose action $a=0$, $\\rho(a|\\mathbf{x}) = 4$. If we choose $a=1$, $\\rho(a|\\mathbf{x}) = 6$. If we choose action $a = \\text{rejection}$, \n",
    "$\\rho(a|\\mathbf{x}) = 0.4\\cdot 3 + 0.6 \\cdot 3 = 3$. In this case, the best decision is to choose rejection."
   ]
  },
  {
   "cell_type": "markdown",
   "metadata": {},
   "source": [
    "c. From the previous questions, we can infer the following pattern: if we strongly believe class 1 or 0 is correct, then we should choose the respective class. Otherwise we choose the rejection. \n",
    "\n",
    "Expected loss: \n",
    "\n",
    "\\begin{aligned}\n",
    "\\rho(a|\\mathbf{x}) & = p(y=0 |\\mathbf{x})L(0, a) + p(y=1|\\mathbf{x})L(1, a)\\\\\n",
    "& (1-p_1)L(0, a) + p_1L(1, a)\n",
    "\\end{aligned}\n",
    "\n",
    "If we choose action $a=0$. $\\rho(a|\\mathbf{x}) = 10p_1$. If we choose action $a=1$, $\\rho(a|\\mathbf{x}) = 10(1-p_1)$. If we choose rejection, the cost is 3.\n",
    "\n",
    "For $a=0$ to be the best choice, we must have\n",
    "\n",
    "\\begin{aligned}\n",
    "10p_1 & \\le 10(1-p_1) \\iff p_1\\le 0.5\\\\\n",
    "10p_1 & \\le 3 \\iff p_1\\le 0.3\n",
    "\\end{aligned}\n",
    "\n",
    "For $a=1$ to be the best choice, we must have\n",
    "\n",
    "\\begin{aligned}\n",
    "10(1-p_1) & \\le 10 p_1 \\iff p_1 \\ge 0.5\\\\\n",
    "10(1-p_1) & \\le 3 \\iff p_1\\ge 0.7\n",
    "\\end{aligned}\n",
    "\n",
    "Therefore, the thresholds are $\\theta_0 = 0.3$ and $\\theta_1 = 0.7$."
   ]
  }
 ],
 "metadata": {
  "kernelspec": {
   "display_name": "Python 3",
   "language": "python",
   "name": "python3"
  },
  "language_info": {
   "codemirror_mode": {
    "name": "ipython",
    "version": 3
   },
   "file_extension": ".py",
   "mimetype": "text/x-python",
   "name": "python",
   "nbconvert_exporter": "python",
   "pygments_lexer": "ipython3",
   "version": "3.7.7"
  }
 },
 "nbformat": 4,
 "nbformat_minor": 4
}
