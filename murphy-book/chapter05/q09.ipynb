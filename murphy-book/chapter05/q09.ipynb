{
 "cells": [
  {
   "cell_type": "markdown",
   "metadata": {},
   "source": [
    "## Exercise 5.9 Posterior median is optimal estimate under L1 loss\n",
    "Prove that the posterior median is optimal estimate under L1 loss."
   ]
  },
  {
   "cell_type": "markdown",
   "metadata": {},
   "source": [
    "\\begin{aligned}\n",
    "\\rho(a|\\mathbf{x}) & = \\int|y-a|p(y|\\mathbf{x})dy = \\int_{y>a}(y-a)p(y|\\mathbf{x})dy - \\int_{y<a}(y-a)p(y|\\mathbf{x})dy \\\\\n",
    "\\frac{\\partial\\rho}{\\partial a} & = -\\int_{y>a}p(y|\\mathbf{x})dy + \\int_{y<a}p(y|\\mathbf{x})dy = 0 \\\\\n",
    "& \\iff p(y<a|\\mathbf{x}) = p(y\\ge a|\\mathbf{x}) = 0.5\n",
    "\\end{aligned}"
   ]
  }
 ],
 "metadata": {
  "kernelspec": {
   "display_name": "Python 3",
   "language": "python",
   "name": "python3"
  },
  "language_info": {
   "codemirror_mode": {
    "name": "ipython",
    "version": 3
   },
   "file_extension": ".py",
   "mimetype": "text/x-python",
   "name": "python",
   "nbconvert_exporter": "python",
   "pygments_lexer": "ipython3",
   "version": "3.7.7"
  }
 },
 "nbformat": 4,
 "nbformat_minor": 4
}
