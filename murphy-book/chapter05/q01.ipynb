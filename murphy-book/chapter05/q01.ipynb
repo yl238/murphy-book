{
 "cells": [
  {
   "cell_type": "markdown",
   "metadata": {},
   "source": [
    "## Exercise 5.1 Proof that a mixture of conjugate priors is indeed conjugate"
   ]
  },
  {
   "cell_type": "markdown",
   "metadata": {},
   "source": [
    "$$\n",
    "p(\\theta|\\mathcal{D}) = \\frac{p(\\mathcal{D}|\\theta)p(\\theta)}{p(\\mathcal{D})} = \\frac{\\sum_kp(\\mathcal{D}|\\theta)p(z=k)p(\\theta|z=k)}{p(\\mathcal{D})}\n",
    "$$\n",
    "\n",
    "Since $p(\\mathcal{D}|\\theta) = p(\\mathcal{D}|\\theta, z=k)$,\n",
    "\n",
    "$$\n",
    "p(\\theta|D) = \\sum_k\\frac{p(z=k)}{p(\\mathcal{D})}p(\\theta|z=k)p(\\mathcal{D}|\\theta, z=k)\n",
    "$$\n",
    "\n",
    "But meanwhile, we have \n",
    "\n",
    "\\begin{aligned}\n",
    "p(\\theta|\\mathcal{D}, z=k) & = \\frac{p(\\mathcal{D}|\\theta,z=k)p(\\theta|z=k)}{p(\\mathcal{D}|z=k)} \\\\\n",
    "\\implies p(\\theta|\\mathcal{D}) & = \\sum_k\\frac{p(z=k)p(\\mathcal{D}|z=k)}{p(\\mathcal{D})}p(\\theta|\\mathcal{D}, z=k)\\\\\n",
    "& = \\sum_kp(z=k|\\mathcal{D})p(\\theta|\\mathcal{D}, z=k)\n",
    "\\end{aligned}"
   ]
  }
 ],
 "metadata": {
  "kernelspec": {
   "display_name": "Python 3",
   "language": "python",
   "name": "python3"
  },
  "language_info": {
   "codemirror_mode": {
    "name": "ipython",
    "version": 3
   },
   "file_extension": ".py",
   "mimetype": "text/x-python",
   "name": "python",
   "nbconvert_exporter": "python",
   "pygments_lexer": "ipython3",
   "version": "3.7.7"
  }
 },
 "nbformat": 4,
 "nbformat_minor": 4
}
