{
 "cells": [
  {
   "cell_type": "markdown",
   "metadata": {},
   "source": [
    "## Exercise 5.7 Bayes model averaging helps predictive accuracy\n",
    "Let $\\Delta$ be a quantity that we want to predict, let $D$ be the observed data and $\\mathcal{M}$ be a finite set of models. Suppose our action is to provide a probabilistic prediction $p()$, and the loss function is $L(\\Delta,p()) = -\\log p(\\Delta)$. We can either perform Bayes model averaging and predict using\n",
    "\n",
    "$$\n",
    "p^{BMA}(\\Delta) = \\sum_{m\\in M}p(\\Delta|m, \\mathcal{D})p(m|\\mathcal{D})\n",
    "$$\n",
    "\n",
    "or we could predict using any single model (a plugin approximation)\n",
    "\n",
    "$$\n",
    "p^m(\\Delta) = p(\\Delta|m,\\mathcal{D})\n",
    "$$\n",
    "\n",
    "Show that, for all models $m\\in\\mathcal{M}$, the posterior expected loss using BMA is lower, i.e.\n",
    "\n",
    "$$\n",
    "\\mathbb{E}\\left[L(\\Delta, p^{BMA})\\right] \\le \\mathbb{E}[L(\\Delta, p^m)]\n",
    "$$\n",
    "\n",
    "where the expectation over $\\Delta$ is with respect to \n",
    "\n",
    "$$\n",
    "p(\\Delta|\\mathcal{D}) = \\sum_{m\\in\\mathcal{M}}p(\\Delta|m,\\mathcal{D})p(m|\\mathcal{D})\n",
    "$$"
   ]
  },
  {
   "cell_type": "markdown",
   "metadata": {},
   "source": [
    "### Solution\n",
    "\n",
    "\\begin{aligned}\n",
    "\\mathbb{E}(L(\\Delta, p^m)) & = \\int L(\\Delta, p^m)p(\\Delta|\\mathcal{D})d\\Delta = \\int -\\log p(\\Delta|m,\\mathcal{D})p(\\Delta|\\mathcal{D})d\\Delta \\\\\n",
    "\\mathbb{E}(L(\\Delta, p^{BMA})) & = -\\int \\log p(\\Delta|\\mathcal{D})p(\\Delta|\\mathcal{D})d\\Delta\\\\\n",
    "\\implies \\mathbb{E}(L(\\Delta,p^m)) - \\mathbb{E}(L(\\Delta,p^{BMA})) & = \\int p(\\Delta|\\mathcal{D})\\log\\frac{p(\\Delta|\\mathcal{D})}{p(\\Delta|m, \\mathcal{D})}d\\Delta \\\\\n",
    "= \\mathbb{KL}(p(\\Delta,\\mathcal{D})|p(\\Delta|m,\\mathcal{D}))& \\ge 0.\n",
    "\\end{aligned}"
   ]
  }
 ],
 "metadata": {
  "kernelspec": {
   "display_name": "Python 3",
   "language": "python",
   "name": "python3"
  },
  "language_info": {
   "codemirror_mode": {
    "name": "ipython",
    "version": 3
   },
   "file_extension": ".py",
   "mimetype": "text/x-python",
   "name": "python",
   "nbconvert_exporter": "python",
   "pygments_lexer": "ipython3",
   "version": "3.7.7"
  }
 },
 "nbformat": 4,
 "nbformat_minor": 4
}
