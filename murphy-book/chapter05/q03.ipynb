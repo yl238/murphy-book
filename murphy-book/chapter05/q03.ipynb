{
 "cells": [
  {
   "cell_type": "markdown",
   "metadata": {},
   "source": [
    "## Exercise 5.3 Reject option in classifiers\n",
    "(Source: (Duda et al. 2001, Q2.13).)\n",
    "\n",
    "In many classification problems one has the option either of assigning $x$ to class $j$ or, if you are too uncertain, of choosing the **reject option**. If the cost for rejects is less than the cost of falsely classifying the object, it may be the optimal action. Let $α_i$ mean you choose action $i$, for $i = 1 : C + 1$, where $C$ is the number of classes and $C + 1$ is the reject action. Let $Y = j$ be the true (but unknown) **state of nature**. Define the loss function as follows:\n",
    "\n",
    "$$\n",
    "\\lambda(\\alpha_i|Y=j) = \\left\\{\\begin{array}{ll} 0 & \\mathrm{if} i=j \\mathrm{and} i,j\\in\\{1,\\ldots,C\\}\\\\\n",
    "\\lambda_r & \\mathrm{if} i = C+1 \\\\\n",
    "\\lambda_s & \\mathrm{otherwise}\n",
    "\\end{array}\\right.\n",
    "$$\n",
    "\n",
    "In other words, you incur 0 loss if you correctly classify, you incur $\\lambda_r$ loss (cost) if you choose the reject option, and you incur $\\lambda_s$ loss (cost) if you make a substitution error (misclassification).\n",
    "\n",
    "| Decision $\\hat{y}$ | True | label $y$ |\n",
    "|---|---|---|\n",
    "| |0 | 1|\n",
    "| predict 0 | 0 | 10 |\n",
    "| predict 1 | 10 | 0 |\n",
    "| reject | 3 | 3 |\n",
    "\n",
    "a. Show that the minimum risk is obtained if we decide $Y =j$ if $p(Y =j|\\mathbf{x})\\ge p(Y =k|\\mathbf{x})$ for all $k$ (i.e., $j$ is the most probable class) *and* if $p(Y = j|\\mathbf{x})\\ge 1 − \\frac{\\lambda_r}{\\lambda_s}$ ; otherwise we decide to reject."
   ]
  },
  {
   "cell_type": "markdown",
   "metadata": {},
   "source": [
    "$$\n",
    "\\rho(a|\\mathbf{x}) = \\sum_k p(y=k|\\mathbf{x})L(y=k, a)\n",
    "$$\n",
    "\n",
    "If w choose action $i\\in\\{1, 2, \\ldots, C\\}$,\n",
    "\n",
    "$$\n",
    "\\rho(a|\\mathbf{x}) = \\sum_{k\\le i}p(y = k|\\mathbf{x})\\lambda_s = (1 - p(y=i|\\mathbf{x}))\\lambda_s\n",
    "$$\n",
    "\n",
    "If we choose action $i = C + 1$,\n",
    "\n",
    "$$\n",
    "\\rho(a |\\mathbf{x}) = \\sum_k p(y=k|\\mathbf{x})\\lambda_r = \\lambda_r\n",
    "$$\n",
    "\n",
    "If we choose $Y= j$, then \n",
    "\n",
    "\\begin{aligned}\n",
    "(1 - p(y=j|\\mathbf{x})) & = \\min_k(1- p(y=k|\\mathbf{x})) \\\\\n",
    "\\implies p(y=j |\\mathbf{x}) & = \\max_k p(y=k|\\mathbf{x})\n",
    "\\end{aligned}\n",
    "\n",
    "We also need to make sure that it is better than the reject option:\n",
    "\n",
    "$$\n",
    " (1 - p(y=j|\\mathbf{x}))\\lambda_s \\le \\lambda_r  \\implies p(y=j|\\mathbf{x})\\ge 1 - \\frac{\\lambda_r}{\\lambda_s}\n",
    "$$\n",
    "\n",
    "Otherwise rejection option (selecting $i=C+1$) is optimal."
   ]
  },
  {
   "cell_type": "markdown",
   "metadata": {},
   "source": [
    "b. Describe qualitatively what happens as $\\frac{λ_r}{λ_s}$ is increased from 0 to 1 (i.e., the relative cost of rejection\n",
    "increases)"
   ]
  },
  {
   "cell_type": "markdown",
   "metadata": {},
   "source": [
    "If the relative cost of rejection increases, then the base threshold for $p(y=j|\\mathbf{x})$ would decrease, and it becomes less attractive to choose the reject option."
   ]
  }
 ],
 "metadata": {
  "kernelspec": {
   "display_name": "Python 3",
   "language": "python",
   "name": "python3"
  },
  "language_info": {
   "codemirror_mode": {
    "name": "ipython",
    "version": 3
   },
   "file_extension": ".py",
   "mimetype": "text/x-python",
   "name": "python",
   "nbconvert_exporter": "python",
   "pygments_lexer": "ipython3",
   "version": "3.7.7"
  }
 },
 "nbformat": 4,
 "nbformat_minor": 4
}
