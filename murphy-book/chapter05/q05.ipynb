{
 "cells": [
  {
   "cell_type": "markdown",
   "metadata": {},
   "source": [
    "## Exercise 5.5 Newsvendor problem\n",
    "Consider the following classic problem in decision theory/ economics. Suppose you are trying to decide how much quantity $Q$ of some product (e.g., newspapers) to buy to maximize your profits. The optimal amount will depend on how much demand $D$ you think there is for your product, as well as its cost to you $C$ and its selling price $P$. Suppose $D$ is unknown but has pdf $f(D)$ and cdf $F(D)$. We can evaluate the expected profit by considering two cases: if $D > Q$, then we sell all $Q$ items, and make profit $π = (P −C)Q$; but if $D < Q$, we only sell $D$ items, at profit $(P −C)D$, but have wasted $C(Q−D)$ on the unsold items. So the expected profit if we buy quantity $Q$ is\n",
    "\n",
    "$$\n",
    "E_\\pi(Q) = \\int_Q^\\infty(P-C)Qf(D)dD + \\int_0^Q(P-C)Df(D) - \\int_0^QC(Q-D)f(D)dD\n",
    "$$\n",
    "\n",
    "Simplify this expression, and then take derivatives wrt $Q$ to show that the optimal quantity $Q*$ (which maximizes the expected profit) satisfies\n",
    "\n",
    "$$\n",
    "F(Q^*) = \\frac{P-C}{P}\n",
    "$$"
   ]
  },
  {
   "cell_type": "markdown",
   "metadata": {},
   "source": [
    "\\begin{aligned}\n",
    "E_\\pi(\\theta) & = (P-C)Q\\int_0^\\infty\\int_0^\\infty f(D)dD + (P-C)\\int_0^QDf(D)dD - cQ\\int_0^Qf(D)dD + C\\int_0^QDf(D)dD \\\\\n",
    "& = (P-C)Q(1-F(Q)) + P\\int_0^Q Df(D)dD - CQF(Q) \\\\\n",
    "& = (P-C)Q - PQF(Q) + P\\int_0^Q Df(D)dD\n",
    "\\end{aligned}\n",
    "\n",
    "Therefore,\n",
    "\n",
    "\\begin{aligned}\n",
    "\\frac{d E_\\pi(\\theta)}{d\\theta} & = (P-C) - PF(Q) - PQf(Q) + PQf(Q) = 0 \\\\\n",
    "\\iff F(Q) & = \\frac{P-C}{P}\n",
    "\\end{aligned}"
   ]
  }
 ],
 "metadata": {
  "kernelspec": {
   "display_name": "Python 3",
   "language": "python",
   "name": "python3"
  },
  "language_info": {
   "codemirror_mode": {
    "name": "ipython",
    "version": 3
   },
   "file_extension": ".py",
   "mimetype": "text/x-python",
   "name": "python",
   "nbconvert_exporter": "python",
   "pygments_lexer": "ipython3",
   "version": "3.7.7"
  }
 },
 "nbformat": 4,
 "nbformat_minor": 4
}
