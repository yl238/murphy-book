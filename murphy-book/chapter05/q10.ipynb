{
 "cells": [
  {
   "cell_type": "markdown",
   "metadata": {},
   "source": [
    "## Exercise 5.10 Decision rule for trading off FPs and FNs\n",
    "If $L_{FN} =cL_{FP}$, show that we should pick $\\hat{y} =1 $ iff $p(y=1|\\mathbf{x})/p(y=0|\\mathbf{x})>\\tau$, where $\\tau=c/(1+c)$."
   ]
  },
  {
   "cell_type": "markdown",
   "metadata": {},
   "source": [
    "$$\n",
    "\\frac{p(y=1|\\mathbf{x})}{p(y=0|\\mathbf{x})} \\ge \\frac{L_{FP}}{L_{FN}} = \\frac{1}{c}\n",
    "$$\n",
    "\n",
    "$\\therefore$ \n",
    "\n",
    "$$\\frac{c}{c+1}\\gt p(y=0|\\mathbf{x})$$"
   ]
  }
 ],
 "metadata": {
  "kernelspec": {
   "display_name": "Python 3",
   "language": "python",
   "name": "python3"
  },
  "language_info": {
   "codemirror_mode": {
    "name": "ipython",
    "version": 3
   },
   "file_extension": ".py",
   "mimetype": "text/x-python",
   "name": "python",
   "nbconvert_exporter": "python",
   "pygments_lexer": "ipython3",
   "version": "3.7.7"
  }
 },
 "nbformat": 4,
 "nbformat_minor": 4
}
