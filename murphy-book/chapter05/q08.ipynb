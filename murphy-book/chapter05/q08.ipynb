{
 "cells": [
  {
   "cell_type": "markdown",
   "metadata": {},
   "source": [
    "## Exercise 5.8 MLE and model selection for a 2d discrete distribution\n",
    "Let $x \\in \\{0, 1\\}$ denote the result of a coin toss ($x = 0$ for tails, $x = 1$ for heads). The coin is potentially biased, so that heads occurs with probability $θ_1$. Suppose that someone else observes the coin flip and reports to you the outcome, $y$. But this person is unreliable and only reports the result correctly with probability $θ_2$; i.e., $p(y|x, θ_2)$ is given by\n",
    "\n",
    "| | $y=0$ | $y=1$|\n",
    "|---|---|---|\n",
    "| $x=0$ |$\\theta_2$ | $1-\\theta_2$ |\n",
    "| $x=1$ |$1-\\theta_2$ | $\\theta_2$ |\n",
    "\n",
    "Assume that $\\theta_2$ is independent of $x$ and $\\theta_1$."
   ]
  },
  {
   "cell_type": "markdown",
   "metadata": {},
   "source": [
    "a. Write down the joint probability distribution $p(x, y|\\boldsymbol\\theta)$ as a 2 × 2 table, in terms of $\\boldsymbol\\theta = (θ_1, θ_2)$.\n",
    "\n",
    "| $p(x, y|\\theta)$ | $y=0$ | $y=1$|\n",
    "|---|---|---|\n",
    "| $x=0$ | $(1-\\theta_1)\\theta_2$ | $(1-\\theta_1)(1-\\theta_2)$ |\n",
    "| $x=1$ | $\\theta_1(1-\\theta_2)$ | $\\theta_1\\theta_2$ |"
   ]
  },
  {
   "cell_type": "markdown",
   "metadata": {},
   "source": [
    "b. Suppose have the following dataset: $\\mathbf{x} = (1,1,0,1,1,0,0)$, $\\mathbf{y} = (1,0,0,0,1,0,1)$. What are the\n",
    "MLEs for $θ_1$ and $θ_2$? Justify your answer. Hint: note that the likelihood function factorizes,\n",
    "\n",
    "$$\n",
    "p(x, y|\\boldsymbol\\theta) = p(y|x,\\theta_2)p(x|\\theta_1)\n",
    "$$\n",
    "\n",
    "What is $p(\\mathcal{D}|\\hat{\\boldsymbol\\theta}, M_2)$ where $M_2$ denotes this 2-parameter model?"
   ]
  },
  {
   "cell_type": "markdown",
   "metadata": {},
   "source": [
    "$\\hat{\\theta_1} = \\frac{4}{7},\\hat{\\theta}_2=\\frac{4}{7}$"
   ]
  }
 ],
 "metadata": {
  "kernelspec": {
   "display_name": "Python 3",
   "language": "python",
   "name": "python3"
  },
  "language_info": {
   "codemirror_mode": {
    "name": "ipython",
    "version": 3
   },
   "file_extension": ".py",
   "mimetype": "text/x-python",
   "name": "python",
   "nbconvert_exporter": "python",
   "pygments_lexer": "ipython3",
   "version": "3.7.7"
  }
 },
 "nbformat": 4,
 "nbformat_minor": 4
}
