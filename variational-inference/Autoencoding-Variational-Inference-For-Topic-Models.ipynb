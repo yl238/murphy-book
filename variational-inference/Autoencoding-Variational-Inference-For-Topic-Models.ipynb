{
 "cells": [
  {
   "cell_type": "code",
   "execution_count": 1,
   "metadata": {},
   "outputs": [],
   "source": [
    "from keras import backend as K\n",
    "from keras.layers import Input, Dense, Lambda, Activation, Dropout, BatchNormalization, Layer\n",
    "from keras.models import Model\n",
    "from keras.optimizers import Adam\n",
    "from keras.datasets import reuters\n",
    "from keras.callbacks import EarlyStopping\n",
    "import numpy as np"
   ]
  },
  {
   "cell_type": "code",
   "execution_count": 18,
   "metadata": {},
   "outputs": [],
   "source": [
    "reuters.load_data?"
   ]
  },
  {
   "cell_type": "code",
   "execution_count": 25,
   "metadata": {},
   "outputs": [],
   "source": [
    "# save np.load\n",
    "np_load_old = np.load\n",
    "\n",
    "# modify the default parameters of np.load\n",
    "np.load = lambda *a,**k: np_load_old(*a, allow_pickle=True, **k)\n",
    "\n",
    "V = 10922\n",
    "(X_train, _), (_, _) = reuters.load_data(start_char=None, \n",
    "                                         oov_char=None, index_from=-1, \n",
    "                                         num_words=V) # remove words having freq(q) <= 5\n",
    "np.load = np_load_old"
   ]
  },
  {
   "cell_type": "code",
   "execution_count": 26,
   "metadata": {},
   "outputs": [],
   "source": [
    "word_index = reuters.get_word_index()\n",
    "index2word = {v-1: k for k, v in word_index.items()} # Zero-origin word index\n",
    "\n",
    "X_train = np.array([np.bincount(doc, minlength=V) for doc in X_train])\n",
    "X_train = X_train[:8000, :]"
   ]
  },
  {
   "cell_type": "code",
   "execution_count": 28,
   "metadata": {},
   "outputs": [],
   "source": [
    "num_hidden = 100\n",
    "num_topic = 20\n",
    "batch_size = 100\n",
    "alpha = 1./20"
   ]
  },
  {
   "cell_type": "code",
   "execution_count": 29,
   "metadata": {},
   "outputs": [],
   "source": [
    "mu1 = np.log(alpha) - 1/num_topic*num_topic*np.log(alpha)\n",
    "sigma1 = 1./alpha*(1-2./num_topic) + 1/(num_topic**2)*num_topic/alpha\n",
    "inv_sigma1 = 1./sigma1\n",
    "log_det_sigma = num_topic*np.log(sigma1)"
   ]
  },
  {
   "cell_type": "code",
   "execution_count": null,
   "metadata": {},
   "outputs": [],
   "source": []
  }
 ],
 "metadata": {
  "kernelspec": {
   "display_name": "Python 3",
   "language": "python",
   "name": "python3"
  },
  "language_info": {
   "codemirror_mode": {
    "name": "ipython",
    "version": 3
   },
   "file_extension": ".py",
   "mimetype": "text/x-python",
   "name": "python",
   "nbconvert_exporter": "python",
   "pygments_lexer": "ipython3",
   "version": "3.7.3"
  }
 },
 "nbformat": 4,
 "nbformat_minor": 2
}
